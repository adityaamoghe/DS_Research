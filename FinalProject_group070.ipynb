{
  "cells": [
    {
      "cell_type": "markdown",
      "metadata": {
        "id": "S3nI9hG4K31w"
      },
      "source": [
        "# COGS 108 - Final Project\n",
        "# Physical Fitness and Academic Performance \n",
        "\n",
        "Video Link: https://www.youtube.com/watch?v=eiIFw2HPthg "
      ]
    },
    {
      "cell_type": "markdown",
      "metadata": {
        "id": "8h7YJ2fSK31y"
      },
      "source": [
        "## Permissions\n",
        "\n",
        "Place an `X` in the appropriate bracket below to specify if you would like your group's project to be made available to the public. (Note that student names will be included (but PIDs will be scraped from any groups who include their PIDs).\n",
        "\n",
        "* [  ] YES - make available\n",
        "* [ X ] NO - keep private"
      ]
    },
    {
      "cell_type": "markdown",
      "metadata": {
        "id": "WhHOeMoXK31y"
      },
      "source": [
        "# Overview"
      ]
    },
    {
      "cell_type": "markdown",
      "metadata": {
        "id": "K-6prtM9K31y"
      },
      "source": [
        "\n",
        "\n",
        "\n",
        "In this project, we explored the possible relationships between GPA and physical fitness. We carried out our analysis through linear regression models in order to measure the correlation between each feature and GPA. Our findings suggest that there is little to no correlation between excercise intensity and GPA. The other factors failed to show a linear relationship with GPA.\n",
        "\n",
        "\n"
      ]
    },
    {
      "cell_type": "markdown",
      "metadata": {
        "id": "N8gP3gewK31y"
      },
      "source": [
        "# Names\n",
        "\n",
        "- Aditya Moghe\n",
        "- Raghav Cherukuru\n",
        "- Presley Cheng\n",
        "- Salwan Shathar\n",
        "- Eric Peng"
      ]
    },
    {
      "cell_type": "markdown",
      "metadata": {
        "id": "iOGNKwwTK31z"
      },
      "source": [
        "<a id='research_question'></a>\n",
        "# Research Question"
      ]
    },
    {
      "cell_type": "markdown",
      "metadata": {
        "id": "9ATnwIwuK31z"
      },
      "source": [
        "What is the relationship between excerise and academic performance (Grade point average) amongst undergraduate students in the United States as measured through physical fitness factors such as mile time, steps taken daily, cardio, and excercise intensity?\n"
      ]
    },
    {
      "cell_type": "markdown",
      "metadata": {
        "id": "RPy6Vg8SK31z"
      },
      "source": [
        "<a id='background'></a>\n",
        "\n",
        "## Background & Prior Work"
      ]
    },
    {
      "cell_type": "markdown",
      "metadata": {
        "id": "Fsm5lHynK31z"
      },
      "source": [
        "Academic performance is a critical factor towards a person's overall academic success. Maximizing ones academic success could better one's carreer and state of life with the opportunities schooling provides. Our group is highly interested in exercising and physical fitness; as college students looking to excel in our academic studies, we want to examine the effects of exercising on academic performance.\n",
        "\n",
        "There have been extensive studies on the correlation between physical activity and academic performance amongst adolescents. One such study [^Castelli] found that physical activity is linked to higher academic performance as measured through standardized test scores, improved memory retention, and better engagement. The children studied had an enhanced learning experience when participating in physical activities. While this study was able to effectively correlate academics with exercise rates, the results were not applicable to college students. Our group aims to extend the findings to college student population.\n",
        "\n",
        "A 2017 study from the Stanford Center for Education Policy Analysis[^Fricke] concluded that college students who were able to effectively integrate both excercise and studying into their daily regimen, showed far greater academic results than students who did not. However one confounding variable in the conducting of the study was that the researchers used incentives to encourage students to participate in the on campus activities. The findings were not able to distinguish whether it was excercise or spending more time at the educational facility that yielded in higher academic performance. Our group aims to refine this study and truly pinpoint whether there is a direct correlation to exercise rates and higher academic performance among college students.\n",
        "\n",
        "\n",
        "\n",
        "[^Castelli]: Castelli, M., Darla, (2015). Active Education: Growing Evidence on Physical Activity and Academic Performance. https://activelivingresearch.org/sites/activelivingresearch.org/files/ALR_Brief_ActiveEducation_Jan2015.pdf\n",
        "\n",
        "[^Fricke]: Fricke, H., Lechner, M., & Steinmayr, A. (2017). The Effect of Physical Activity on Student Performance in College: An Experimental Evaluation. https://cepa.stanford.edu/content/effect-physical-activity-student-performance-college-experimental-evaluation\n",
        "\n"
      ]
    },
    {
      "cell_type": "markdown",
      "metadata": {
        "id": "N-8ByXwmK310"
      },
      "source": [
        "# Hypothesis\n"
      ]
    },
    {
      "cell_type": "markdown",
      "metadata": {
        "id": "GS27EfDAK310"
      },
      "source": [
        "We predict that college going students who are more physically fit will perform at higher rates in academics than college students who are less physically fit. This hypothesis relies on the idea that physical activity can improve cognitive health — helping you think, learn, and problem-solve. Therefore, we hypothesize that being more physically fit will yield higher GPA.\n"
      ]
    },
    {
      "cell_type": "markdown",
      "metadata": {
        "id": "BTcLHuKdK310"
      },
      "source": [
        "# Dataset(s)"
      ]
    },
    {
      "cell_type": "markdown",
      "metadata": {
        "id": "OXldHDE6K310"
      },
      "source": [
        "\n",
        "#####Dataset\n",
        "- Dataset Name: FitbitsAndGradesData (Freshman)\n",
        "- Variable used:  fr_DF\n",
        "- Link to the dataset: https://figshare.com/articles/dataset/Dataset_Fitbits_field-tests_and_grades_The_effects_of_a_healthy_and_physically_active_lifestyle_on_the_academic_performance_of_first_year_college_students_/7218497\n",
        "- Number of observations: 581 observations\n",
        "\n",
        "Description: This dataset (strictly freshman) makes use of fitbit technology to monitor fitness levels of study participants based on a 1-mile field assessment and a lifestyle assesment survey. The data additionaly includes Grade Point Average (GPA) measurements for each participant for the semester they were monitored in. The features in this dataset are as follow:\n",
        "\n",
        "- Steps\n",
        "- Peak\n",
        "- Cardio\n",
        "- FatBurn\n",
        "- Mode \n",
        "- Minutes\n",
        "- Gender\n",
        "- Age \n",
        "- GPA\n",
        "- LifeScore\n",
        "\n",
        "\n",
        "<!-- (Dataset 2:)\n",
        "- Dataset Name: HealthBehavAcadPerfAffect \n",
        "- Variable used: hbap_DF\n",
        "- Link to the dataset: https://dataverse.harvard.edu/file.xhtml?persistentId=doi:10.7910/DVN/27388/SPWIGT&version=2.0\n",
        "- Number of observations:  2111\n",
        "\n",
        "Description: This dataset (college attending students) observes the relationship between health and physical activities with academic performance. The study tracks each participant response for approximately one month in order to quanitfy change in academic performance per person.\n",
        "\n",
        "\n",
        "\n",
        "Combining the Datasets: After revisiting both datasets, we realized that the fitness and academic performance metrics were different between the datasets. In dataset 1, the mile time and GPA is measured, whereas in dataset 2, the physical activity time (in minutes) and the passing/failing of a standardized test is measured.  -->"
      ]
    },
    {
      "cell_type": "markdown",
      "metadata": {
        "id": "lA3Q-gdSK310"
      },
      "source": [
        "# Setup"
      ]
    },
    {
      "cell_type": "code",
      "execution_count": null,
      "metadata": {
        "colab": {
          "base_uri": "https://localhost:8080/",
          "height": 261
        },
        "id": "L35b2zGQK310",
        "outputId": "92b6e67b-f64d-4bc8-e557-73f508eddb11"
      },
      "outputs": [
        {
          "output_type": "stream",
          "name": "stderr",
          "text": [
            "/usr/local/lib/python3.7/dist-packages/statsmodels/tools/_testing.py:19: FutureWarning: pandas.util.testing is deprecated. Use the functions in the public API at pandas.testing instead.\n",
            "  import pandas.util.testing as tm\n"
          ]
        },
        {
          "output_type": "display_data",
          "data": {
            "text/plain": [
              "   Key  Steps  Peak  Cardio  FatBurn  Mode  Minutes  Gender  Age   GPA  \\\n",
              "0    1  11157  0.13    3.86   111.92     1     9.35       1   23  4.00   \n",
              "1    2   7986  2.72   15.53   249.29     1     8.20       1   18  3.26   \n",
              "2    3  11602  0.35    2.10   195.32     0    12.73       0   18  3.07   \n",
              "3    4  10609  1.00    6.51   121.75     1    10.00       1   17  4.00   \n",
              "4    5  14552  9.10    6.09   109.66     1     8.63       0   18  2.87   \n",
              "\n",
              "   Life Score  \n",
              "0          48  \n",
              "1         101  \n",
              "2          64  \n",
              "3          41  \n",
              "4          83  "
            ],
            "text/html": [
              "\n",
              "  <div id=\"df-fb169620-9500-4c52-a752-6e06ef4d81f0\">\n",
              "    <div class=\"colab-df-container\">\n",
              "      <div>\n",
              "<style scoped>\n",
              "    .dataframe tbody tr th:only-of-type {\n",
              "        vertical-align: middle;\n",
              "    }\n",
              "\n",
              "    .dataframe tbody tr th {\n",
              "        vertical-align: top;\n",
              "    }\n",
              "\n",
              "    .dataframe thead th {\n",
              "        text-align: right;\n",
              "    }\n",
              "</style>\n",
              "<table border=\"1\" class=\"dataframe\">\n",
              "  <thead>\n",
              "    <tr style=\"text-align: right;\">\n",
              "      <th></th>\n",
              "      <th>Key</th>\n",
              "      <th>Steps</th>\n",
              "      <th>Peak</th>\n",
              "      <th>Cardio</th>\n",
              "      <th>FatBurn</th>\n",
              "      <th>Mode</th>\n",
              "      <th>Minutes</th>\n",
              "      <th>Gender</th>\n",
              "      <th>Age</th>\n",
              "      <th>GPA</th>\n",
              "      <th>Life Score</th>\n",
              "    </tr>\n",
              "  </thead>\n",
              "  <tbody>\n",
              "    <tr>\n",
              "      <th>0</th>\n",
              "      <td>1</td>\n",
              "      <td>11157</td>\n",
              "      <td>0.13</td>\n",
              "      <td>3.86</td>\n",
              "      <td>111.92</td>\n",
              "      <td>1</td>\n",
              "      <td>9.35</td>\n",
              "      <td>1</td>\n",
              "      <td>23</td>\n",
              "      <td>4.00</td>\n",
              "      <td>48</td>\n",
              "    </tr>\n",
              "    <tr>\n",
              "      <th>1</th>\n",
              "      <td>2</td>\n",
              "      <td>7986</td>\n",
              "      <td>2.72</td>\n",
              "      <td>15.53</td>\n",
              "      <td>249.29</td>\n",
              "      <td>1</td>\n",
              "      <td>8.20</td>\n",
              "      <td>1</td>\n",
              "      <td>18</td>\n",
              "      <td>3.26</td>\n",
              "      <td>101</td>\n",
              "    </tr>\n",
              "    <tr>\n",
              "      <th>2</th>\n",
              "      <td>3</td>\n",
              "      <td>11602</td>\n",
              "      <td>0.35</td>\n",
              "      <td>2.10</td>\n",
              "      <td>195.32</td>\n",
              "      <td>0</td>\n",
              "      <td>12.73</td>\n",
              "      <td>0</td>\n",
              "      <td>18</td>\n",
              "      <td>3.07</td>\n",
              "      <td>64</td>\n",
              "    </tr>\n",
              "    <tr>\n",
              "      <th>3</th>\n",
              "      <td>4</td>\n",
              "      <td>10609</td>\n",
              "      <td>1.00</td>\n",
              "      <td>6.51</td>\n",
              "      <td>121.75</td>\n",
              "      <td>1</td>\n",
              "      <td>10.00</td>\n",
              "      <td>1</td>\n",
              "      <td>17</td>\n",
              "      <td>4.00</td>\n",
              "      <td>41</td>\n",
              "    </tr>\n",
              "    <tr>\n",
              "      <th>4</th>\n",
              "      <td>5</td>\n",
              "      <td>14552</td>\n",
              "      <td>9.10</td>\n",
              "      <td>6.09</td>\n",
              "      <td>109.66</td>\n",
              "      <td>1</td>\n",
              "      <td>8.63</td>\n",
              "      <td>0</td>\n",
              "      <td>18</td>\n",
              "      <td>2.87</td>\n",
              "      <td>83</td>\n",
              "    </tr>\n",
              "  </tbody>\n",
              "</table>\n",
              "</div>\n",
              "      <button class=\"colab-df-convert\" onclick=\"convertToInteractive('df-fb169620-9500-4c52-a752-6e06ef4d81f0')\"\n",
              "              title=\"Convert this dataframe to an interactive table.\"\n",
              "              style=\"display:none;\">\n",
              "        \n",
              "  <svg xmlns=\"http://www.w3.org/2000/svg\" height=\"24px\"viewBox=\"0 0 24 24\"\n",
              "       width=\"24px\">\n",
              "    <path d=\"M0 0h24v24H0V0z\" fill=\"none\"/>\n",
              "    <path d=\"M18.56 5.44l.94 2.06.94-2.06 2.06-.94-2.06-.94-.94-2.06-.94 2.06-2.06.94zm-11 1L8.5 8.5l.94-2.06 2.06-.94-2.06-.94L8.5 2.5l-.94 2.06-2.06.94zm10 10l.94 2.06.94-2.06 2.06-.94-2.06-.94-.94-2.06-.94 2.06-2.06.94z\"/><path d=\"M17.41 7.96l-1.37-1.37c-.4-.4-.92-.59-1.43-.59-.52 0-1.04.2-1.43.59L10.3 9.45l-7.72 7.72c-.78.78-.78 2.05 0 2.83L4 21.41c.39.39.9.59 1.41.59.51 0 1.02-.2 1.41-.59l7.78-7.78 2.81-2.81c.8-.78.8-2.07 0-2.86zM5.41 20L4 18.59l7.72-7.72 1.47 1.35L5.41 20z\"/>\n",
              "  </svg>\n",
              "      </button>\n",
              "      \n",
              "  <style>\n",
              "    .colab-df-container {\n",
              "      display:flex;\n",
              "      flex-wrap:wrap;\n",
              "      gap: 12px;\n",
              "    }\n",
              "\n",
              "    .colab-df-convert {\n",
              "      background-color: #E8F0FE;\n",
              "      border: none;\n",
              "      border-radius: 50%;\n",
              "      cursor: pointer;\n",
              "      display: none;\n",
              "      fill: #1967D2;\n",
              "      height: 32px;\n",
              "      padding: 0 0 0 0;\n",
              "      width: 32px;\n",
              "    }\n",
              "\n",
              "    .colab-df-convert:hover {\n",
              "      background-color: #E2EBFA;\n",
              "      box-shadow: 0px 1px 2px rgba(60, 64, 67, 0.3), 0px 1px 3px 1px rgba(60, 64, 67, 0.15);\n",
              "      fill: #174EA6;\n",
              "    }\n",
              "\n",
              "    [theme=dark] .colab-df-convert {\n",
              "      background-color: #3B4455;\n",
              "      fill: #D2E3FC;\n",
              "    }\n",
              "\n",
              "    [theme=dark] .colab-df-convert:hover {\n",
              "      background-color: #434B5C;\n",
              "      box-shadow: 0px 1px 3px 1px rgba(0, 0, 0, 0.15);\n",
              "      filter: drop-shadow(0px 1px 2px rgba(0, 0, 0, 0.3));\n",
              "      fill: #FFFFFF;\n",
              "    }\n",
              "  </style>\n",
              "\n",
              "      <script>\n",
              "        const buttonEl =\n",
              "          document.querySelector('#df-fb169620-9500-4c52-a752-6e06ef4d81f0 button.colab-df-convert');\n",
              "        buttonEl.style.display =\n",
              "          google.colab.kernel.accessAllowed ? 'block' : 'none';\n",
              "\n",
              "        async function convertToInteractive(key) {\n",
              "          const element = document.querySelector('#df-fb169620-9500-4c52-a752-6e06ef4d81f0');\n",
              "          const dataTable =\n",
              "            await google.colab.kernel.invokeFunction('convertToInteractive',\n",
              "                                                     [key], {});\n",
              "          if (!dataTable) return;\n",
              "\n",
              "          const docLinkHtml = 'Like what you see? Visit the ' +\n",
              "            '<a target=\"_blank\" href=https://colab.research.google.com/notebooks/data_table.ipynb>data table notebook</a>'\n",
              "            + ' to learn more about interactive tables.';\n",
              "          element.innerHTML = '';\n",
              "          dataTable['output_type'] = 'display_data';\n",
              "          await google.colab.output.renderOutput(dataTable, element);\n",
              "          const docLink = document.createElement('div');\n",
              "          docLink.innerHTML = docLinkHtml;\n",
              "          element.appendChild(docLink);\n",
              "        }\n",
              "      </script>\n",
              "    </div>\n",
              "  </div>\n",
              "  "
            ]
          },
          "metadata": {}
        },
        {
          "output_type": "display_data",
          "data": {
            "text/plain": [
              "(581, 11)"
            ]
          },
          "metadata": {}
        }
      ],
      "source": [
        "import pandas as pd\n",
        "import numpy as np\n",
        "import seaborn as sns\n",
        "import matplotlib as mpl\n",
        "import matplotlib.pyplot as plt\n",
        "import patsy\n",
        "import statsmodels.api as sm\n",
        "import statsmodels.formula.api as smf\n",
        "from sklearn import preprocessing\n",
        "\n",
        "#Dataset\n",
        "fr_DF = pd.read_csv('https://raw.githubusercontent.com/presley-cheng/COGS108_070_DataSets/main/FitbitsAndGradesData_Fall2017.csv')\n",
        "\n",
        "display(fr_DF.head()) \n",
        "display(fr_DF.shape) #(observations, features)"
      ]
    },
    {
      "cell_type": "markdown",
      "metadata": {
        "id": "1TvohPmCK311"
      },
      "source": [
        "# Data Cleaning"
      ]
    },
    {
      "cell_type": "markdown",
      "metadata": {
        "id": "qtqkfuxzK311"
      },
      "source": [
        "Describe your data cleaning steps here."
      ]
    },
    {
      "cell_type": "code",
      "execution_count": null,
      "metadata": {
        "colab": {
          "base_uri": "https://localhost:8080/",
          "height": 206
        },
        "id": "UMonF2HMK311",
        "outputId": "20ef6421-e5d5-4cde-a570-212cbeae3930"
      },
      "outputs": [
        {
          "output_type": "execute_result",
          "data": {
            "text/plain": [
              "   Key  Steps  Peak  Cardio  FatBurn  Mode  Minutes Gender  Age   GPA  \\\n",
              "0    1  11157  0.13    3.86   111.92     1     9.35      F   23  4.00   \n",
              "1    2   7986  2.72   15.53   249.29     1     8.20      F   18  3.26   \n",
              "2    3  11602  0.35    2.10   195.32     0    12.73      M   18  3.07   \n",
              "3    4  10609  1.00    6.51   121.75     1    10.00      F   17  4.00   \n",
              "4    5  14552  9.10    6.09   109.66     1     8.63      M   18  2.87   \n",
              "\n",
              "   Life Score  \n",
              "0          48  \n",
              "1         101  \n",
              "2          64  \n",
              "3          41  \n",
              "4          83  "
            ],
            "text/html": [
              "\n",
              "  <div id=\"df-87329ad1-dc99-4fb4-8a6f-984c8ea7fea1\">\n",
              "    <div class=\"colab-df-container\">\n",
              "      <div>\n",
              "<style scoped>\n",
              "    .dataframe tbody tr th:only-of-type {\n",
              "        vertical-align: middle;\n",
              "    }\n",
              "\n",
              "    .dataframe tbody tr th {\n",
              "        vertical-align: top;\n",
              "    }\n",
              "\n",
              "    .dataframe thead th {\n",
              "        text-align: right;\n",
              "    }\n",
              "</style>\n",
              "<table border=\"1\" class=\"dataframe\">\n",
              "  <thead>\n",
              "    <tr style=\"text-align: right;\">\n",
              "      <th></th>\n",
              "      <th>Key</th>\n",
              "      <th>Steps</th>\n",
              "      <th>Peak</th>\n",
              "      <th>Cardio</th>\n",
              "      <th>FatBurn</th>\n",
              "      <th>Mode</th>\n",
              "      <th>Minutes</th>\n",
              "      <th>Gender</th>\n",
              "      <th>Age</th>\n",
              "      <th>GPA</th>\n",
              "      <th>Life Score</th>\n",
              "    </tr>\n",
              "  </thead>\n",
              "  <tbody>\n",
              "    <tr>\n",
              "      <th>0</th>\n",
              "      <td>1</td>\n",
              "      <td>11157</td>\n",
              "      <td>0.13</td>\n",
              "      <td>3.86</td>\n",
              "      <td>111.92</td>\n",
              "      <td>1</td>\n",
              "      <td>9.35</td>\n",
              "      <td>F</td>\n",
              "      <td>23</td>\n",
              "      <td>4.00</td>\n",
              "      <td>48</td>\n",
              "    </tr>\n",
              "    <tr>\n",
              "      <th>1</th>\n",
              "      <td>2</td>\n",
              "      <td>7986</td>\n",
              "      <td>2.72</td>\n",
              "      <td>15.53</td>\n",
              "      <td>249.29</td>\n",
              "      <td>1</td>\n",
              "      <td>8.20</td>\n",
              "      <td>F</td>\n",
              "      <td>18</td>\n",
              "      <td>3.26</td>\n",
              "      <td>101</td>\n",
              "    </tr>\n",
              "    <tr>\n",
              "      <th>2</th>\n",
              "      <td>3</td>\n",
              "      <td>11602</td>\n",
              "      <td>0.35</td>\n",
              "      <td>2.10</td>\n",
              "      <td>195.32</td>\n",
              "      <td>0</td>\n",
              "      <td>12.73</td>\n",
              "      <td>M</td>\n",
              "      <td>18</td>\n",
              "      <td>3.07</td>\n",
              "      <td>64</td>\n",
              "    </tr>\n",
              "    <tr>\n",
              "      <th>3</th>\n",
              "      <td>4</td>\n",
              "      <td>10609</td>\n",
              "      <td>1.00</td>\n",
              "      <td>6.51</td>\n",
              "      <td>121.75</td>\n",
              "      <td>1</td>\n",
              "      <td>10.00</td>\n",
              "      <td>F</td>\n",
              "      <td>17</td>\n",
              "      <td>4.00</td>\n",
              "      <td>41</td>\n",
              "    </tr>\n",
              "    <tr>\n",
              "      <th>4</th>\n",
              "      <td>5</td>\n",
              "      <td>14552</td>\n",
              "      <td>9.10</td>\n",
              "      <td>6.09</td>\n",
              "      <td>109.66</td>\n",
              "      <td>1</td>\n",
              "      <td>8.63</td>\n",
              "      <td>M</td>\n",
              "      <td>18</td>\n",
              "      <td>2.87</td>\n",
              "      <td>83</td>\n",
              "    </tr>\n",
              "  </tbody>\n",
              "</table>\n",
              "</div>\n",
              "      <button class=\"colab-df-convert\" onclick=\"convertToInteractive('df-87329ad1-dc99-4fb4-8a6f-984c8ea7fea1')\"\n",
              "              title=\"Convert this dataframe to an interactive table.\"\n",
              "              style=\"display:none;\">\n",
              "        \n",
              "  <svg xmlns=\"http://www.w3.org/2000/svg\" height=\"24px\"viewBox=\"0 0 24 24\"\n",
              "       width=\"24px\">\n",
              "    <path d=\"M0 0h24v24H0V0z\" fill=\"none\"/>\n",
              "    <path d=\"M18.56 5.44l.94 2.06.94-2.06 2.06-.94-2.06-.94-.94-2.06-.94 2.06-2.06.94zm-11 1L8.5 8.5l.94-2.06 2.06-.94-2.06-.94L8.5 2.5l-.94 2.06-2.06.94zm10 10l.94 2.06.94-2.06 2.06-.94-2.06-.94-.94-2.06-.94 2.06-2.06.94z\"/><path d=\"M17.41 7.96l-1.37-1.37c-.4-.4-.92-.59-1.43-.59-.52 0-1.04.2-1.43.59L10.3 9.45l-7.72 7.72c-.78.78-.78 2.05 0 2.83L4 21.41c.39.39.9.59 1.41.59.51 0 1.02-.2 1.41-.59l7.78-7.78 2.81-2.81c.8-.78.8-2.07 0-2.86zM5.41 20L4 18.59l7.72-7.72 1.47 1.35L5.41 20z\"/>\n",
              "  </svg>\n",
              "      </button>\n",
              "      \n",
              "  <style>\n",
              "    .colab-df-container {\n",
              "      display:flex;\n",
              "      flex-wrap:wrap;\n",
              "      gap: 12px;\n",
              "    }\n",
              "\n",
              "    .colab-df-convert {\n",
              "      background-color: #E8F0FE;\n",
              "      border: none;\n",
              "      border-radius: 50%;\n",
              "      cursor: pointer;\n",
              "      display: none;\n",
              "      fill: #1967D2;\n",
              "      height: 32px;\n",
              "      padding: 0 0 0 0;\n",
              "      width: 32px;\n",
              "    }\n",
              "\n",
              "    .colab-df-convert:hover {\n",
              "      background-color: #E2EBFA;\n",
              "      box-shadow: 0px 1px 2px rgba(60, 64, 67, 0.3), 0px 1px 3px 1px rgba(60, 64, 67, 0.15);\n",
              "      fill: #174EA6;\n",
              "    }\n",
              "\n",
              "    [theme=dark] .colab-df-convert {\n",
              "      background-color: #3B4455;\n",
              "      fill: #D2E3FC;\n",
              "    }\n",
              "\n",
              "    [theme=dark] .colab-df-convert:hover {\n",
              "      background-color: #434B5C;\n",
              "      box-shadow: 0px 1px 3px 1px rgba(0, 0, 0, 0.15);\n",
              "      filter: drop-shadow(0px 1px 2px rgba(0, 0, 0, 0.3));\n",
              "      fill: #FFFFFF;\n",
              "    }\n",
              "  </style>\n",
              "\n",
              "      <script>\n",
              "        const buttonEl =\n",
              "          document.querySelector('#df-87329ad1-dc99-4fb4-8a6f-984c8ea7fea1 button.colab-df-convert');\n",
              "        buttonEl.style.display =\n",
              "          google.colab.kernel.accessAllowed ? 'block' : 'none';\n",
              "\n",
              "        async function convertToInteractive(key) {\n",
              "          const element = document.querySelector('#df-87329ad1-dc99-4fb4-8a6f-984c8ea7fea1');\n",
              "          const dataTable =\n",
              "            await google.colab.kernel.invokeFunction('convertToInteractive',\n",
              "                                                     [key], {});\n",
              "          if (!dataTable) return;\n",
              "\n",
              "          const docLinkHtml = 'Like what you see? Visit the ' +\n",
              "            '<a target=\"_blank\" href=https://colab.research.google.com/notebooks/data_table.ipynb>data table notebook</a>'\n",
              "            + ' to learn more about interactive tables.';\n",
              "          element.innerHTML = '';\n",
              "          dataTable['output_type'] = 'display_data';\n",
              "          await google.colab.output.renderOutput(dataTable, element);\n",
              "          const docLink = document.createElement('div');\n",
              "          docLink.innerHTML = docLinkHtml;\n",
              "          element.appendChild(docLink);\n",
              "        }\n",
              "      </script>\n",
              "    </div>\n",
              "  </div>\n",
              "  "
            ]
          },
          "metadata": {},
          "execution_count": 2
        }
      ],
      "source": [
        "# Change gender from 0,1 -> M,F (Ease of reading)\n",
        "\n",
        "fr_DF['Gender'] = fr_DF['Gender'].replace([0, 1], ['M', 'F'])\n",
        "\n",
        "fr_DF.head()"
      ]
    },
    {
      "cell_type": "code",
      "source": [
        "# Remove columns -> No use towards our study \n",
        "\n",
        "fr_DF.drop('Mode', axis=1, inplace=True)\n",
        "fr_DF.drop('Peak', axis=1, inplace=True)\n",
        "fr_DF.drop('Life Score', axis=1, inplace=True)\n",
        "display(fr_DF)"
      ],
      "metadata": {
        "colab": {
          "base_uri": "https://localhost:8080/",
          "height": 423
        },
        "id": "x_5dZicLSta-",
        "outputId": "ca4936ee-b703-4907-99af-0bac9b0e8a00"
      },
      "execution_count": null,
      "outputs": [
        {
          "output_type": "display_data",
          "data": {
            "text/plain": [
              "     Key  Steps  Cardio  FatBurn  Minutes Gender  Age   GPA\n",
              "0      1  11157    3.86   111.92     9.35      F   23  4.00\n",
              "1      2   7986   15.53   249.29     8.20      F   18  3.26\n",
              "2      3  11602    2.10   195.32    12.73      M   18  3.07\n",
              "3      4  10609    6.51   121.75    10.00      F   17  4.00\n",
              "4      5  14552    6.09   109.66     8.63      M   18  2.87\n",
              "..   ...    ...     ...      ...      ...    ...  ...   ...\n",
              "576  577  10445   11.02   194.46     8.53      F   18  3.73\n",
              "577  578  13537    1.54    87.39     6.55      M   18  3.93\n",
              "578  579   7653    2.64    68.24     7.63      M   18  2.92\n",
              "579  580  13828    8.00   189.69     8.25      F   18  3.94\n",
              "580  581   7711    2.49    50.41     7.50      M   19  3.52\n",
              "\n",
              "[581 rows x 8 columns]"
            ],
            "text/html": [
              "\n",
              "  <div id=\"df-d561a85c-d63a-4511-be06-b7c8218fec05\">\n",
              "    <div class=\"colab-df-container\">\n",
              "      <div>\n",
              "<style scoped>\n",
              "    .dataframe tbody tr th:only-of-type {\n",
              "        vertical-align: middle;\n",
              "    }\n",
              "\n",
              "    .dataframe tbody tr th {\n",
              "        vertical-align: top;\n",
              "    }\n",
              "\n",
              "    .dataframe thead th {\n",
              "        text-align: right;\n",
              "    }\n",
              "</style>\n",
              "<table border=\"1\" class=\"dataframe\">\n",
              "  <thead>\n",
              "    <tr style=\"text-align: right;\">\n",
              "      <th></th>\n",
              "      <th>Key</th>\n",
              "      <th>Steps</th>\n",
              "      <th>Cardio</th>\n",
              "      <th>FatBurn</th>\n",
              "      <th>Minutes</th>\n",
              "      <th>Gender</th>\n",
              "      <th>Age</th>\n",
              "      <th>GPA</th>\n",
              "    </tr>\n",
              "  </thead>\n",
              "  <tbody>\n",
              "    <tr>\n",
              "      <th>0</th>\n",
              "      <td>1</td>\n",
              "      <td>11157</td>\n",
              "      <td>3.86</td>\n",
              "      <td>111.92</td>\n",
              "      <td>9.35</td>\n",
              "      <td>F</td>\n",
              "      <td>23</td>\n",
              "      <td>4.00</td>\n",
              "    </tr>\n",
              "    <tr>\n",
              "      <th>1</th>\n",
              "      <td>2</td>\n",
              "      <td>7986</td>\n",
              "      <td>15.53</td>\n",
              "      <td>249.29</td>\n",
              "      <td>8.20</td>\n",
              "      <td>F</td>\n",
              "      <td>18</td>\n",
              "      <td>3.26</td>\n",
              "    </tr>\n",
              "    <tr>\n",
              "      <th>2</th>\n",
              "      <td>3</td>\n",
              "      <td>11602</td>\n",
              "      <td>2.10</td>\n",
              "      <td>195.32</td>\n",
              "      <td>12.73</td>\n",
              "      <td>M</td>\n",
              "      <td>18</td>\n",
              "      <td>3.07</td>\n",
              "    </tr>\n",
              "    <tr>\n",
              "      <th>3</th>\n",
              "      <td>4</td>\n",
              "      <td>10609</td>\n",
              "      <td>6.51</td>\n",
              "      <td>121.75</td>\n",
              "      <td>10.00</td>\n",
              "      <td>F</td>\n",
              "      <td>17</td>\n",
              "      <td>4.00</td>\n",
              "    </tr>\n",
              "    <tr>\n",
              "      <th>4</th>\n",
              "      <td>5</td>\n",
              "      <td>14552</td>\n",
              "      <td>6.09</td>\n",
              "      <td>109.66</td>\n",
              "      <td>8.63</td>\n",
              "      <td>M</td>\n",
              "      <td>18</td>\n",
              "      <td>2.87</td>\n",
              "    </tr>\n",
              "    <tr>\n",
              "      <th>...</th>\n",
              "      <td>...</td>\n",
              "      <td>...</td>\n",
              "      <td>...</td>\n",
              "      <td>...</td>\n",
              "      <td>...</td>\n",
              "      <td>...</td>\n",
              "      <td>...</td>\n",
              "      <td>...</td>\n",
              "    </tr>\n",
              "    <tr>\n",
              "      <th>576</th>\n",
              "      <td>577</td>\n",
              "      <td>10445</td>\n",
              "      <td>11.02</td>\n",
              "      <td>194.46</td>\n",
              "      <td>8.53</td>\n",
              "      <td>F</td>\n",
              "      <td>18</td>\n",
              "      <td>3.73</td>\n",
              "    </tr>\n",
              "    <tr>\n",
              "      <th>577</th>\n",
              "      <td>578</td>\n",
              "      <td>13537</td>\n",
              "      <td>1.54</td>\n",
              "      <td>87.39</td>\n",
              "      <td>6.55</td>\n",
              "      <td>M</td>\n",
              "      <td>18</td>\n",
              "      <td>3.93</td>\n",
              "    </tr>\n",
              "    <tr>\n",
              "      <th>578</th>\n",
              "      <td>579</td>\n",
              "      <td>7653</td>\n",
              "      <td>2.64</td>\n",
              "      <td>68.24</td>\n",
              "      <td>7.63</td>\n",
              "      <td>M</td>\n",
              "      <td>18</td>\n",
              "      <td>2.92</td>\n",
              "    </tr>\n",
              "    <tr>\n",
              "      <th>579</th>\n",
              "      <td>580</td>\n",
              "      <td>13828</td>\n",
              "      <td>8.00</td>\n",
              "      <td>189.69</td>\n",
              "      <td>8.25</td>\n",
              "      <td>F</td>\n",
              "      <td>18</td>\n",
              "      <td>3.94</td>\n",
              "    </tr>\n",
              "    <tr>\n",
              "      <th>580</th>\n",
              "      <td>581</td>\n",
              "      <td>7711</td>\n",
              "      <td>2.49</td>\n",
              "      <td>50.41</td>\n",
              "      <td>7.50</td>\n",
              "      <td>M</td>\n",
              "      <td>19</td>\n",
              "      <td>3.52</td>\n",
              "    </tr>\n",
              "  </tbody>\n",
              "</table>\n",
              "<p>581 rows × 8 columns</p>\n",
              "</div>\n",
              "      <button class=\"colab-df-convert\" onclick=\"convertToInteractive('df-d561a85c-d63a-4511-be06-b7c8218fec05')\"\n",
              "              title=\"Convert this dataframe to an interactive table.\"\n",
              "              style=\"display:none;\">\n",
              "        \n",
              "  <svg xmlns=\"http://www.w3.org/2000/svg\" height=\"24px\"viewBox=\"0 0 24 24\"\n",
              "       width=\"24px\">\n",
              "    <path d=\"M0 0h24v24H0V0z\" fill=\"none\"/>\n",
              "    <path d=\"M18.56 5.44l.94 2.06.94-2.06 2.06-.94-2.06-.94-.94-2.06-.94 2.06-2.06.94zm-11 1L8.5 8.5l.94-2.06 2.06-.94-2.06-.94L8.5 2.5l-.94 2.06-2.06.94zm10 10l.94 2.06.94-2.06 2.06-.94-2.06-.94-.94-2.06-.94 2.06-2.06.94z\"/><path d=\"M17.41 7.96l-1.37-1.37c-.4-.4-.92-.59-1.43-.59-.52 0-1.04.2-1.43.59L10.3 9.45l-7.72 7.72c-.78.78-.78 2.05 0 2.83L4 21.41c.39.39.9.59 1.41.59.51 0 1.02-.2 1.41-.59l7.78-7.78 2.81-2.81c.8-.78.8-2.07 0-2.86zM5.41 20L4 18.59l7.72-7.72 1.47 1.35L5.41 20z\"/>\n",
              "  </svg>\n",
              "      </button>\n",
              "      \n",
              "  <style>\n",
              "    .colab-df-container {\n",
              "      display:flex;\n",
              "      flex-wrap:wrap;\n",
              "      gap: 12px;\n",
              "    }\n",
              "\n",
              "    .colab-df-convert {\n",
              "      background-color: #E8F0FE;\n",
              "      border: none;\n",
              "      border-radius: 50%;\n",
              "      cursor: pointer;\n",
              "      display: none;\n",
              "      fill: #1967D2;\n",
              "      height: 32px;\n",
              "      padding: 0 0 0 0;\n",
              "      width: 32px;\n",
              "    }\n",
              "\n",
              "    .colab-df-convert:hover {\n",
              "      background-color: #E2EBFA;\n",
              "      box-shadow: 0px 1px 2px rgba(60, 64, 67, 0.3), 0px 1px 3px 1px rgba(60, 64, 67, 0.15);\n",
              "      fill: #174EA6;\n",
              "    }\n",
              "\n",
              "    [theme=dark] .colab-df-convert {\n",
              "      background-color: #3B4455;\n",
              "      fill: #D2E3FC;\n",
              "    }\n",
              "\n",
              "    [theme=dark] .colab-df-convert:hover {\n",
              "      background-color: #434B5C;\n",
              "      box-shadow: 0px 1px 3px 1px rgba(0, 0, 0, 0.15);\n",
              "      filter: drop-shadow(0px 1px 2px rgba(0, 0, 0, 0.3));\n",
              "      fill: #FFFFFF;\n",
              "    }\n",
              "  </style>\n",
              "\n",
              "      <script>\n",
              "        const buttonEl =\n",
              "          document.querySelector('#df-d561a85c-d63a-4511-be06-b7c8218fec05 button.colab-df-convert');\n",
              "        buttonEl.style.display =\n",
              "          google.colab.kernel.accessAllowed ? 'block' : 'none';\n",
              "\n",
              "        async function convertToInteractive(key) {\n",
              "          const element = document.querySelector('#df-d561a85c-d63a-4511-be06-b7c8218fec05');\n",
              "          const dataTable =\n",
              "            await google.colab.kernel.invokeFunction('convertToInteractive',\n",
              "                                                     [key], {});\n",
              "          if (!dataTable) return;\n",
              "\n",
              "          const docLinkHtml = 'Like what you see? Visit the ' +\n",
              "            '<a target=\"_blank\" href=https://colab.research.google.com/notebooks/data_table.ipynb>data table notebook</a>'\n",
              "            + ' to learn more about interactive tables.';\n",
              "          element.innerHTML = '';\n",
              "          dataTable['output_type'] = 'display_data';\n",
              "          await google.colab.output.renderOutput(dataTable, element);\n",
              "          const docLink = document.createElement('div');\n",
              "          docLink.innerHTML = docLinkHtml;\n",
              "          element.appendChild(docLink);\n",
              "        }\n",
              "      </script>\n",
              "    </div>\n",
              "  </div>\n",
              "  "
            ]
          },
          "metadata": {}
        }
      ]
    },
    {
      "cell_type": "markdown",
      "source": [
        "We have thoroughly cleaned our FitbitsAndGradesData dataset for our study!\n"
      ],
      "metadata": {
        "id": "Ul1hnfHwTKQe"
      }
    },
    {
      "cell_type": "markdown",
      "metadata": {
        "id": "k_y1g8dcK312"
      },
      "source": [
        "# Data Analysis & Results"
      ]
    },
    {
      "cell_type": "markdown",
      "source": [
        "### Descriptive Analysis"
      ],
      "metadata": {
        "id": "vmIG2aO59WtY"
      }
    },
    {
      "cell_type": "code",
      "source": [
        "# determine the shape of the data\n",
        "\n",
        "shape = fr_DF.shape\n",
        "display(shape)\n"
      ],
      "metadata": {
        "colab": {
          "base_uri": "https://localhost:8080/",
          "height": 35
        },
        "id": "1Or2tS7YxvIZ",
        "outputId": "44684ba1-abc7-4fda-806e-96e02c36b761"
      },
      "execution_count": null,
      "outputs": [
        {
          "output_type": "display_data",
          "data": {
            "text/plain": [
              "(581, 8)"
            ]
          },
          "metadata": {}
        }
      ]
    },
    {
      "cell_type": "markdown",
      "source": [
        "After finding the shape of the FitbitsAndGradesData dataset, we can note that there exist:\n",
        "- 581 observations (rows)\n",
        "- 10 features (columns)"
      ],
      "metadata": {
        "id": "IwYIfG7tTmIv"
      }
    },
    {
      "cell_type": "code",
      "source": [
        "# get descriptive statistics for quantitative variables\n",
        "\n",
        "description = fr_DF.describe()\n",
        "display(description)"
      ],
      "metadata": {
        "colab": {
          "base_uri": "https://localhost:8080/",
          "height": 300
        },
        "id": "2kEg5ZljTrWN",
        "outputId": "86ab6bc3-7a38-4efb-e3dd-4a436613e395"
      },
      "execution_count": null,
      "outputs": [
        {
          "output_type": "display_data",
          "data": {
            "text/plain": [
              "              Key         Steps      Cardio     FatBurn     Minutes  \\\n",
              "count  581.000000    581.000000  581.000000  581.000000  581.000000   \n",
              "mean   291.000000  10229.024096    9.007694  148.726454   10.161015   \n",
              "std    167.864529   3067.141829   16.465780   96.495032    3.139881   \n",
              "min      1.000000      0.000000    0.000000    0.000000    5.380000   \n",
              "25%    146.000000   8506.000000    2.340000   82.430000    7.670000   \n",
              "50%    291.000000  10284.000000    4.600000  122.000000    9.350000   \n",
              "75%    436.000000  12082.000000    8.950000  189.690000   12.150000   \n",
              "max    581.000000  20331.000000  180.650000  729.670000   21.070000   \n",
              "\n",
              "              Age         GPA  \n",
              "count  581.000000  581.000000  \n",
              "mean    18.619621    3.186919  \n",
              "std      1.673802    0.757748  \n",
              "min     16.000000    0.000000  \n",
              "25%     18.000000    2.840000  \n",
              "50%     18.000000    3.350000  \n",
              "75%     19.000000    3.780000  \n",
              "max     40.000000    4.000000  "
            ],
            "text/html": [
              "\n",
              "  <div id=\"df-978c5ea3-9560-405e-b0a9-69e4e6994be3\">\n",
              "    <div class=\"colab-df-container\">\n",
              "      <div>\n",
              "<style scoped>\n",
              "    .dataframe tbody tr th:only-of-type {\n",
              "        vertical-align: middle;\n",
              "    }\n",
              "\n",
              "    .dataframe tbody tr th {\n",
              "        vertical-align: top;\n",
              "    }\n",
              "\n",
              "    .dataframe thead th {\n",
              "        text-align: right;\n",
              "    }\n",
              "</style>\n",
              "<table border=\"1\" class=\"dataframe\">\n",
              "  <thead>\n",
              "    <tr style=\"text-align: right;\">\n",
              "      <th></th>\n",
              "      <th>Key</th>\n",
              "      <th>Steps</th>\n",
              "      <th>Cardio</th>\n",
              "      <th>FatBurn</th>\n",
              "      <th>Minutes</th>\n",
              "      <th>Age</th>\n",
              "      <th>GPA</th>\n",
              "    </tr>\n",
              "  </thead>\n",
              "  <tbody>\n",
              "    <tr>\n",
              "      <th>count</th>\n",
              "      <td>581.000000</td>\n",
              "      <td>581.000000</td>\n",
              "      <td>581.000000</td>\n",
              "      <td>581.000000</td>\n",
              "      <td>581.000000</td>\n",
              "      <td>581.000000</td>\n",
              "      <td>581.000000</td>\n",
              "    </tr>\n",
              "    <tr>\n",
              "      <th>mean</th>\n",
              "      <td>291.000000</td>\n",
              "      <td>10229.024096</td>\n",
              "      <td>9.007694</td>\n",
              "      <td>148.726454</td>\n",
              "      <td>10.161015</td>\n",
              "      <td>18.619621</td>\n",
              "      <td>3.186919</td>\n",
              "    </tr>\n",
              "    <tr>\n",
              "      <th>std</th>\n",
              "      <td>167.864529</td>\n",
              "      <td>3067.141829</td>\n",
              "      <td>16.465780</td>\n",
              "      <td>96.495032</td>\n",
              "      <td>3.139881</td>\n",
              "      <td>1.673802</td>\n",
              "      <td>0.757748</td>\n",
              "    </tr>\n",
              "    <tr>\n",
              "      <th>min</th>\n",
              "      <td>1.000000</td>\n",
              "      <td>0.000000</td>\n",
              "      <td>0.000000</td>\n",
              "      <td>0.000000</td>\n",
              "      <td>5.380000</td>\n",
              "      <td>16.000000</td>\n",
              "      <td>0.000000</td>\n",
              "    </tr>\n",
              "    <tr>\n",
              "      <th>25%</th>\n",
              "      <td>146.000000</td>\n",
              "      <td>8506.000000</td>\n",
              "      <td>2.340000</td>\n",
              "      <td>82.430000</td>\n",
              "      <td>7.670000</td>\n",
              "      <td>18.000000</td>\n",
              "      <td>2.840000</td>\n",
              "    </tr>\n",
              "    <tr>\n",
              "      <th>50%</th>\n",
              "      <td>291.000000</td>\n",
              "      <td>10284.000000</td>\n",
              "      <td>4.600000</td>\n",
              "      <td>122.000000</td>\n",
              "      <td>9.350000</td>\n",
              "      <td>18.000000</td>\n",
              "      <td>3.350000</td>\n",
              "    </tr>\n",
              "    <tr>\n",
              "      <th>75%</th>\n",
              "      <td>436.000000</td>\n",
              "      <td>12082.000000</td>\n",
              "      <td>8.950000</td>\n",
              "      <td>189.690000</td>\n",
              "      <td>12.150000</td>\n",
              "      <td>19.000000</td>\n",
              "      <td>3.780000</td>\n",
              "    </tr>\n",
              "    <tr>\n",
              "      <th>max</th>\n",
              "      <td>581.000000</td>\n",
              "      <td>20331.000000</td>\n",
              "      <td>180.650000</td>\n",
              "      <td>729.670000</td>\n",
              "      <td>21.070000</td>\n",
              "      <td>40.000000</td>\n",
              "      <td>4.000000</td>\n",
              "    </tr>\n",
              "  </tbody>\n",
              "</table>\n",
              "</div>\n",
              "      <button class=\"colab-df-convert\" onclick=\"convertToInteractive('df-978c5ea3-9560-405e-b0a9-69e4e6994be3')\"\n",
              "              title=\"Convert this dataframe to an interactive table.\"\n",
              "              style=\"display:none;\">\n",
              "        \n",
              "  <svg xmlns=\"http://www.w3.org/2000/svg\" height=\"24px\"viewBox=\"0 0 24 24\"\n",
              "       width=\"24px\">\n",
              "    <path d=\"M0 0h24v24H0V0z\" fill=\"none\"/>\n",
              "    <path d=\"M18.56 5.44l.94 2.06.94-2.06 2.06-.94-2.06-.94-.94-2.06-.94 2.06-2.06.94zm-11 1L8.5 8.5l.94-2.06 2.06-.94-2.06-.94L8.5 2.5l-.94 2.06-2.06.94zm10 10l.94 2.06.94-2.06 2.06-.94-2.06-.94-.94-2.06-.94 2.06-2.06.94z\"/><path d=\"M17.41 7.96l-1.37-1.37c-.4-.4-.92-.59-1.43-.59-.52 0-1.04.2-1.43.59L10.3 9.45l-7.72 7.72c-.78.78-.78 2.05 0 2.83L4 21.41c.39.39.9.59 1.41.59.51 0 1.02-.2 1.41-.59l7.78-7.78 2.81-2.81c.8-.78.8-2.07 0-2.86zM5.41 20L4 18.59l7.72-7.72 1.47 1.35L5.41 20z\"/>\n",
              "  </svg>\n",
              "      </button>\n",
              "      \n",
              "  <style>\n",
              "    .colab-df-container {\n",
              "      display:flex;\n",
              "      flex-wrap:wrap;\n",
              "      gap: 12px;\n",
              "    }\n",
              "\n",
              "    .colab-df-convert {\n",
              "      background-color: #E8F0FE;\n",
              "      border: none;\n",
              "      border-radius: 50%;\n",
              "      cursor: pointer;\n",
              "      display: none;\n",
              "      fill: #1967D2;\n",
              "      height: 32px;\n",
              "      padding: 0 0 0 0;\n",
              "      width: 32px;\n",
              "    }\n",
              "\n",
              "    .colab-df-convert:hover {\n",
              "      background-color: #E2EBFA;\n",
              "      box-shadow: 0px 1px 2px rgba(60, 64, 67, 0.3), 0px 1px 3px 1px rgba(60, 64, 67, 0.15);\n",
              "      fill: #174EA6;\n",
              "    }\n",
              "\n",
              "    [theme=dark] .colab-df-convert {\n",
              "      background-color: #3B4455;\n",
              "      fill: #D2E3FC;\n",
              "    }\n",
              "\n",
              "    [theme=dark] .colab-df-convert:hover {\n",
              "      background-color: #434B5C;\n",
              "      box-shadow: 0px 1px 3px 1px rgba(0, 0, 0, 0.15);\n",
              "      filter: drop-shadow(0px 1px 2px rgba(0, 0, 0, 0.3));\n",
              "      fill: #FFFFFF;\n",
              "    }\n",
              "  </style>\n",
              "\n",
              "      <script>\n",
              "        const buttonEl =\n",
              "          document.querySelector('#df-978c5ea3-9560-405e-b0a9-69e4e6994be3 button.colab-df-convert');\n",
              "        buttonEl.style.display =\n",
              "          google.colab.kernel.accessAllowed ? 'block' : 'none';\n",
              "\n",
              "        async function convertToInteractive(key) {\n",
              "          const element = document.querySelector('#df-978c5ea3-9560-405e-b0a9-69e4e6994be3');\n",
              "          const dataTable =\n",
              "            await google.colab.kernel.invokeFunction('convertToInteractive',\n",
              "                                                     [key], {});\n",
              "          if (!dataTable) return;\n",
              "\n",
              "          const docLinkHtml = 'Like what you see? Visit the ' +\n",
              "            '<a target=\"_blank\" href=https://colab.research.google.com/notebooks/data_table.ipynb>data table notebook</a>'\n",
              "            + ' to learn more about interactive tables.';\n",
              "          element.innerHTML = '';\n",
              "          dataTable['output_type'] = 'display_data';\n",
              "          await google.colab.output.renderOutput(dataTable, element);\n",
              "          const docLink = document.createElement('div');\n",
              "          docLink.innerHTML = docLinkHtml;\n",
              "          element.appendChild(docLink);\n",
              "        }\n",
              "      </script>\n",
              "    </div>\n",
              "  </div>\n",
              "  "
            ]
          },
          "metadata": {}
        }
      ]
    },
    {
      "cell_type": "markdown",
      "source": [
        "After analyzing the descriptive statistics for FitbitsAndGradesData dataset we noted the following:\n",
        "\n",
        "- Mean GPA = 3.187\n",
        "- Median GPA = 3.35\n",
        "- Standard Deviation GPA = 0.757\n",
        "\n",
        "From the above statistics, we get some feel for the features of our data."
      ],
      "metadata": {
        "id": "4lDedMF1TuJO"
      }
    },
    {
      "cell_type": "code",
      "source": [
        "# Let's take a look at how gender is broken down, in order to make sure our sample is representative\n",
        "\n",
        "fig, axs = plt.subplots(1,2, figsize=(14, 7))\n",
        "\n",
        "gender_counts = fr_DF['Gender'].value_counts()  # Male and female counts\n",
        "\n",
        "#General Population\n",
        "gen_temp = pd.DataFrame({'Gender': ['F', 'M'], 'Ratio': [0.595, 0.405]})  \n",
        "pop_ratio = sns.barplot(x = 'Gender', y = 'Ratio', ax=axs[0], data = gen_temp).set_title('College Gender Ratio - General Population')\n",
        "\n",
        "ratio_male = gender_counts[1] / gender_counts.sum()   # male ratio\n",
        "ratio_female = gender_counts[0] / gender_counts.sum() # female ratio\n",
        "\n",
        "#FR_DF Population\n",
        "ratio_gendergraph = sns.barplot(x = ['F', 'M'], y = [ratio_female, ratio_male], ax=axs[1]).set_title('College Gender Ratio - FR_DF')\n",
        "plt.xlabel(\"Gender\")\n",
        "plt.ylabel(\"Ratio\")\n",
        "\n",
        "plt.show()\n",
        "\n",
        "display(gender_counts)\n",
        "\n"
      ],
      "metadata": {
        "colab": {
          "base_uri": "https://localhost:8080/",
          "height": 513
        },
        "id": "Jn5jfBLaTvQM",
        "outputId": "d9d2181b-f3cb-453d-ffba-86c405545b10"
      },
      "execution_count": null,
      "outputs": [
        {
          "output_type": "display_data",
          "data": {
            "text/plain": [
              "<Figure size 1008x504 with 2 Axes>"
            ],
            "image/png": "[encoded data removed]"
          },
          "metadata": {
            "needs_background": "light"
          }
        },
        {
          "output_type": "display_data",
          "data": {
            "text/plain": [
              "F    344\n",
              "M    237\n",
              "Name: Gender, dtype: int64"
            ]
          },
          "metadata": {}
        }
      ]
    },
    {
      "cell_type": "markdown",
      "source": [
        "Here we see the distribution of Gender over our sample dataset. We notice that our sample is 0.68 males for each female. Generally we notice that the ratio in an average US college  is 0.66 males for each female (40% male to 60% female). Therefore we can conclude that our sample is representative of our overall population in study. The ratio for general population statistics can be found from the following source:\n",
        "- https://collegenews.org/women-outnumber-men-in-us-colleges-nearly-60-of-students-in-2020-21-were-women/#:~:text=Data%20show%20that%2059.5%20percent,men%20decreasing%20by%2071%20percent\n",
        "\n",
        "\n",
        "\n"
      ],
      "metadata": {
        "id": "jJjrq-ipTzzV"
      }
    },
    {
      "cell_type": "code",
      "source": [
        "# lets look at how gender breaks down our statistics\n",
        "\n",
        "description_male = fr_DF.loc[fr_DF['Gender'] == 'M'].describe()\n",
        "description_female = fr_DF.loc[fr_DF['Gender'] == 'F'].describe()\n",
        "\n",
        "display(\"Male Statistics\")\n",
        "display(description_male)\n",
        "\n",
        "display(\"Female Statistics\")\n",
        "display(description_female)"
      ],
      "metadata": {
        "colab": {
          "base_uri": "https://localhost:8080/",
          "height": 622
        },
        "id": "g1Aiq0xFT19G",
        "outputId": "3dfb7ae6-279b-4b15-adb7-df8d28489bd8"
      },
      "execution_count": null,
      "outputs": [
        {
          "output_type": "display_data",
          "data": {
            "text/plain": [
              "'Male Statistics'"
            ],
            "application/vnd.google.colaboratory.intrinsic+json": {
              "type": "string"
            }
          },
          "metadata": {}
        },
        {
          "output_type": "display_data",
          "data": {
            "text/plain": [
              "              Key         Steps     Cardio     FatBurn     Minutes  \\\n",
              "count  237.000000    237.000000  237.00000  237.000000  237.000000   \n",
              "mean   282.527426  10424.932489    8.30827  122.155738    8.585907   \n",
              "std    166.649651   3370.917550   15.68713   75.110210    2.877209   \n",
              "min      3.000000      9.000000    0.00000    0.010000    5.380000   \n",
              "25%    138.000000   8399.000000    1.83000   69.840000    6.850000   \n",
              "50%    282.000000  10455.000000    3.34000  104.090000    7.630000   \n",
              "75%    425.000000  12497.000000    6.57000  169.650000    9.120000   \n",
              "max    581.000000  20331.000000  134.20000  439.580000   21.070000   \n",
              "\n",
              "              Age         GPA  \n",
              "count  237.000000  237.000000  \n",
              "mean    18.852321    3.054304  \n",
              "std      2.312302    0.720178  \n",
              "min     16.000000    0.600000  \n",
              "25%     18.000000    2.680000  \n",
              "50%     18.000000    3.210000  \n",
              "75%     19.000000    3.620000  \n",
              "max     40.000000    4.000000  "
            ],
            "text/html": [
              "\n",
              "  <div id=\"df-c808a5c7-c27e-46fb-8b34-c043762ee2e7\">\n",
              "    <div class=\"colab-df-container\">\n",
              "      <div>\n",
              "<style scoped>\n",
              "    .dataframe tbody tr th:only-of-type {\n",
              "        vertical-align: middle;\n",
              "    }\n",
              "\n",
              "    .dataframe tbody tr th {\n",
              "        vertical-align: top;\n",
              "    }\n",
              "\n",
              "    .dataframe thead th {\n",
              "        text-align: right;\n",
              "    }\n",
              "</style>\n",
              "<table border=\"1\" class=\"dataframe\">\n",
              "  <thead>\n",
              "    <tr style=\"text-align: right;\">\n",
              "      <th></th>\n",
              "      <th>Key</th>\n",
              "      <th>Steps</th>\n",
              "      <th>Cardio</th>\n",
              "      <th>FatBurn</th>\n",
              "      <th>Minutes</th>\n",
              "      <th>Age</th>\n",
              "      <th>GPA</th>\n",
              "    </tr>\n",
              "  </thead>\n",
              "  <tbody>\n",
              "    <tr>\n",
              "      <th>count</th>\n",
              "      <td>237.000000</td>\n",
              "      <td>237.000000</td>\n",
              "      <td>237.00000</td>\n",
              "      <td>237.000000</td>\n",
              "      <td>237.000000</td>\n",
              "      <td>237.000000</td>\n",
              "      <td>237.000000</td>\n",
              "    </tr>\n",
              "    <tr>\n",
              "      <th>mean</th>\n",
              "      <td>282.527426</td>\n",
              "      <td>10424.932489</td>\n",
              "      <td>8.30827</td>\n",
              "      <td>122.155738</td>\n",
              "      <td>8.585907</td>\n",
              "      <td>18.852321</td>\n",
              "      <td>3.054304</td>\n",
              "    </tr>\n",
              "    <tr>\n",
              "      <th>std</th>\n",
              "      <td>166.649651</td>\n",
              "      <td>3370.917550</td>\n",
              "      <td>15.68713</td>\n",
              "      <td>75.110210</td>\n",
              "      <td>2.877209</td>\n",
              "      <td>2.312302</td>\n",
              "      <td>0.720178</td>\n",
              "    </tr>\n",
              "    <tr>\n",
              "      <th>min</th>\n",
              "      <td>3.000000</td>\n",
              "      <td>9.000000</td>\n",
              "      <td>0.00000</td>\n",
              "      <td>0.010000</td>\n",
              "      <td>5.380000</td>\n",
              "      <td>16.000000</td>\n",
              "      <td>0.600000</td>\n",
              "    </tr>\n",
              "    <tr>\n",
              "      <th>25%</th>\n",
              "      <td>138.000000</td>\n",
              "      <td>8399.000000</td>\n",
              "      <td>1.83000</td>\n",
              "      <td>69.840000</td>\n",
              "      <td>6.850000</td>\n",
              "      <td>18.000000</td>\n",
              "      <td>2.680000</td>\n",
              "    </tr>\n",
              "    <tr>\n",
              "      <th>50%</th>\n",
              "      <td>282.000000</td>\n",
              "      <td>10455.000000</td>\n",
              "      <td>3.34000</td>\n",
              "      <td>104.090000</td>\n",
              "      <td>7.630000</td>\n",
              "      <td>18.000000</td>\n",
              "      <td>3.210000</td>\n",
              "    </tr>\n",
              "    <tr>\n",
              "      <th>75%</th>\n",
              "      <td>425.000000</td>\n",
              "      <td>12497.000000</td>\n",
              "      <td>6.57000</td>\n",
              "      <td>169.650000</td>\n",
              "      <td>9.120000</td>\n",
              "      <td>19.000000</td>\n",
              "      <td>3.620000</td>\n",
              "    </tr>\n",
              "    <tr>\n",
              "      <th>max</th>\n",
              "      <td>581.000000</td>\n",
              "      <td>20331.000000</td>\n",
              "      <td>134.20000</td>\n",
              "      <td>439.580000</td>\n",
              "      <td>21.070000</td>\n",
              "      <td>40.000000</td>\n",
              "      <td>4.000000</td>\n",
              "    </tr>\n",
              "  </tbody>\n",
              "</table>\n",
              "</div>\n",
              "      <button class=\"colab-df-convert\" onclick=\"convertToInteractive('df-c808a5c7-c27e-46fb-8b34-c043762ee2e7')\"\n",
              "              title=\"Convert this dataframe to an interactive table.\"\n",
              "              style=\"display:none;\">\n",
              "        \n",
              "  <svg xmlns=\"http://www.w3.org/2000/svg\" height=\"24px\"viewBox=\"0 0 24 24\"\n",
              "       width=\"24px\">\n",
              "    <path d=\"M0 0h24v24H0V0z\" fill=\"none\"/>\n",
              "    <path d=\"M18.56 5.44l.94 2.06.94-2.06 2.06-.94-2.06-.94-.94-2.06-.94 2.06-2.06.94zm-11 1L8.5 8.5l.94-2.06 2.06-.94-2.06-.94L8.5 2.5l-.94 2.06-2.06.94zm10 10l.94 2.06.94-2.06 2.06-.94-2.06-.94-.94-2.06-.94 2.06-2.06.94z\"/><path d=\"M17.41 7.96l-1.37-1.37c-.4-.4-.92-.59-1.43-.59-.52 0-1.04.2-1.43.59L10.3 9.45l-7.72 7.72c-.78.78-.78 2.05 0 2.83L4 21.41c.39.39.9.59 1.41.59.51 0 1.02-.2 1.41-.59l7.78-7.78 2.81-2.81c.8-.78.8-2.07 0-2.86zM5.41 20L4 18.59l7.72-7.72 1.47 1.35L5.41 20z\"/>\n",
              "  </svg>\n",
              "      </button>\n",
              "      \n",
              "  <style>\n",
              "    .colab-df-container {\n",
              "      display:flex;\n",
              "      flex-wrap:wrap;\n",
              "      gap: 12px;\n",
              "    }\n",
              "\n",
              "    .colab-df-convert {\n",
              "      background-color: #E8F0FE;\n",
              "      border: none;\n",
              "      border-radius: 50%;\n",
              "      cursor: pointer;\n",
              "      display: none;\n",
              "      fill: #1967D2;\n",
              "      height: 32px;\n",
              "      padding: 0 0 0 0;\n",
              "      width: 32px;\n",
              "    }\n",
              "\n",
              "    .colab-df-convert:hover {\n",
              "      background-color: #E2EBFA;\n",
              "      box-shadow: 0px 1px 2px rgba(60, 64, 67, 0.3), 0px 1px 3px 1px rgba(60, 64, 67, 0.15);\n",
              "      fill: #174EA6;\n",
              "    }\n",
              "\n",
              "    [theme=dark] .colab-df-convert {\n",
              "      background-color: #3B4455;\n",
              "      fill: #D2E3FC;\n",
              "    }\n",
              "\n",
              "    [theme=dark] .colab-df-convert:hover {\n",
              "      background-color: #434B5C;\n",
              "      box-shadow: 0px 1px 3px 1px rgba(0, 0, 0, 0.15);\n",
              "      filter: drop-shadow(0px 1px 2px rgba(0, 0, 0, 0.3));\n",
              "      fill: #FFFFFF;\n",
              "    }\n",
              "  </style>\n",
              "\n",
              "      <script>\n",
              "        const buttonEl =\n",
              "          document.querySelector('#df-c808a5c7-c27e-46fb-8b34-c043762ee2e7 button.colab-df-convert');\n",
              "        buttonEl.style.display =\n",
              "          google.colab.kernel.accessAllowed ? 'block' : 'none';\n",
              "\n",
              "        async function convertToInteractive(key) {\n",
              "          const element = document.querySelector('#df-c808a5c7-c27e-46fb-8b34-c043762ee2e7');\n",
              "          const dataTable =\n",
              "            await google.colab.kernel.invokeFunction('convertToInteractive',\n",
              "                                                     [key], {});\n",
              "          if (!dataTable) return;\n",
              "\n",
              "          const docLinkHtml = 'Like what you see? Visit the ' +\n",
              "            '<a target=\"_blank\" href=https://colab.research.google.com/notebooks/data_table.ipynb>data table notebook</a>'\n",
              "            + ' to learn more about interactive tables.';\n",
              "          element.innerHTML = '';\n",
              "          dataTable['output_type'] = 'display_data';\n",
              "          await google.colab.output.renderOutput(dataTable, element);\n",
              "          const docLink = document.createElement('div');\n",
              "          docLink.innerHTML = docLinkHtml;\n",
              "          element.appendChild(docLink);\n",
              "        }\n",
              "      </script>\n",
              "    </div>\n",
              "  </div>\n",
              "  "
            ]
          },
          "metadata": {}
        },
        {
          "output_type": "display_data",
          "data": {
            "text/plain": [
              "'Female Statistics'"
            ],
            "application/vnd.google.colaboratory.intrinsic+json": {
              "type": "string"
            }
          },
          "metadata": {}
        },
        {
          "output_type": "display_data",
          "data": {
            "text/plain": [
              "              Key         Steps      Cardio     FatBurn     Minutes  \\\n",
              "count  344.000000    344.000000  344.000000  344.000000  344.000000   \n",
              "mean   296.837209  10094.052326    9.489564  167.032442   11.246192   \n",
              "std    168.690540   2836.259017   16.987269  105.068967    2.842495   \n",
              "min      1.000000      0.000000    0.000000    0.000000    5.580000   \n",
              "25%    156.750000   8770.750000    3.097500   98.270000    8.910000   \n",
              "50%    305.500000  10187.000000    5.780000  136.620000   10.795000   \n",
              "75%    444.250000  11790.000000    9.852500  214.147500   13.205000   \n",
              "max    580.000000  18673.000000  180.650000  729.670000   19.100000   \n",
              "\n",
              "              Age         GPA  \n",
              "count  344.000000  344.000000  \n",
              "mean    18.459302    3.278285  \n",
              "std      0.997709    0.770413  \n",
              "min     16.000000    0.000000  \n",
              "25%     18.000000    2.920000  \n",
              "50%     18.000000    3.500000  \n",
              "75%     19.000000    3.820000  \n",
              "max     25.000000    4.000000  "
            ],
            "text/html": [
              "\n",
              "  <div id=\"df-6e02938d-8e78-4c77-b5f3-c8443ec88bb4\">\n",
              "    <div class=\"colab-df-container\">\n",
              "      <div>\n",
              "<style scoped>\n",
              "    .dataframe tbody tr th:only-of-type {\n",
              "        vertical-align: middle;\n",
              "    }\n",
              "\n",
              "    .dataframe tbody tr th {\n",
              "        vertical-align: top;\n",
              "    }\n",
              "\n",
              "    .dataframe thead th {\n",
              "        text-align: right;\n",
              "    }\n",
              "</style>\n",
              "<table border=\"1\" class=\"dataframe\">\n",
              "  <thead>\n",
              "    <tr style=\"text-align: right;\">\n",
              "      <th></th>\n",
              "      <th>Key</th>\n",
              "      <th>Steps</th>\n",
              "      <th>Cardio</th>\n",
              "      <th>FatBurn</th>\n",
              "      <th>Minutes</th>\n",
              "      <th>Age</th>\n",
              "      <th>GPA</th>\n",
              "    </tr>\n",
              "  </thead>\n",
              "  <tbody>\n",
              "    <tr>\n",
              "      <th>count</th>\n",
              "      <td>344.000000</td>\n",
              "      <td>344.000000</td>\n",
              "      <td>344.000000</td>\n",
              "      <td>344.000000</td>\n",
              "      <td>344.000000</td>\n",
              "      <td>344.000000</td>\n",
              "      <td>344.000000</td>\n",
              "    </tr>\n",
              "    <tr>\n",
              "      <th>mean</th>\n",
              "      <td>296.837209</td>\n",
              "      <td>10094.052326</td>\n",
              "      <td>9.489564</td>\n",
              "      <td>167.032442</td>\n",
              "      <td>11.246192</td>\n",
              "      <td>18.459302</td>\n",
              "      <td>3.278285</td>\n",
              "    </tr>\n",
              "    <tr>\n",
              "      <th>std</th>\n",
              "      <td>168.690540</td>\n",
              "      <td>2836.259017</td>\n",
              "      <td>16.987269</td>\n",
              "      <td>105.068967</td>\n",
              "      <td>2.842495</td>\n",
              "      <td>0.997709</td>\n",
              "      <td>0.770413</td>\n",
              "    </tr>\n",
              "    <tr>\n",
              "      <th>min</th>\n",
              "      <td>1.000000</td>\n",
              "      <td>0.000000</td>\n",
              "      <td>0.000000</td>\n",
              "      <td>0.000000</td>\n",
              "      <td>5.580000</td>\n",
              "      <td>16.000000</td>\n",
              "      <td>0.000000</td>\n",
              "    </tr>\n",
              "    <tr>\n",
              "      <th>25%</th>\n",
              "      <td>156.750000</td>\n",
              "      <td>8770.750000</td>\n",
              "      <td>3.097500</td>\n",
              "      <td>98.270000</td>\n",
              "      <td>8.910000</td>\n",
              "      <td>18.000000</td>\n",
              "      <td>2.920000</td>\n",
              "    </tr>\n",
              "    <tr>\n",
              "      <th>50%</th>\n",
              "      <td>305.500000</td>\n",
              "      <td>10187.000000</td>\n",
              "      <td>5.780000</td>\n",
              "      <td>136.620000</td>\n",
              "      <td>10.795000</td>\n",
              "      <td>18.000000</td>\n",
              "      <td>3.500000</td>\n",
              "    </tr>\n",
              "    <tr>\n",
              "      <th>75%</th>\n",
              "      <td>444.250000</td>\n",
              "      <td>11790.000000</td>\n",
              "      <td>9.852500</td>\n",
              "      <td>214.147500</td>\n",
              "      <td>13.205000</td>\n",
              "      <td>19.000000</td>\n",
              "      <td>3.820000</td>\n",
              "    </tr>\n",
              "    <tr>\n",
              "      <th>max</th>\n",
              "      <td>580.000000</td>\n",
              "      <td>18673.000000</td>\n",
              "      <td>180.650000</td>\n",
              "      <td>729.670000</td>\n",
              "      <td>19.100000</td>\n",
              "      <td>25.000000</td>\n",
              "      <td>4.000000</td>\n",
              "    </tr>\n",
              "  </tbody>\n",
              "</table>\n",
              "</div>\n",
              "      <button class=\"colab-df-convert\" onclick=\"convertToInteractive('df-6e02938d-8e78-4c77-b5f3-c8443ec88bb4')\"\n",
              "              title=\"Convert this dataframe to an interactive table.\"\n",
              "              style=\"display:none;\">\n",
              "        \n",
              "  <svg xmlns=\"http://www.w3.org/2000/svg\" height=\"24px\"viewBox=\"0 0 24 24\"\n",
              "       width=\"24px\">\n",
              "    <path d=\"M0 0h24v24H0V0z\" fill=\"none\"/>\n",
              "    <path d=\"M18.56 5.44l.94 2.06.94-2.06 2.06-.94-2.06-.94-.94-2.06-.94 2.06-2.06.94zm-11 1L8.5 8.5l.94-2.06 2.06-.94-2.06-.94L8.5 2.5l-.94 2.06-2.06.94zm10 10l.94 2.06.94-2.06 2.06-.94-2.06-.94-.94-2.06-.94 2.06-2.06.94z\"/><path d=\"M17.41 7.96l-1.37-1.37c-.4-.4-.92-.59-1.43-.59-.52 0-1.04.2-1.43.59L10.3 9.45l-7.72 7.72c-.78.78-.78 2.05 0 2.83L4 21.41c.39.39.9.59 1.41.59.51 0 1.02-.2 1.41-.59l7.78-7.78 2.81-2.81c.8-.78.8-2.07 0-2.86zM5.41 20L4 18.59l7.72-7.72 1.47 1.35L5.41 20z\"/>\n",
              "  </svg>\n",
              "      </button>\n",
              "      \n",
              "  <style>\n",
              "    .colab-df-container {\n",
              "      display:flex;\n",
              "      flex-wrap:wrap;\n",
              "      gap: 12px;\n",
              "    }\n",
              "\n",
              "    .colab-df-convert {\n",
              "      background-color: #E8F0FE;\n",
              "      border: none;\n",
              "      border-radius: 50%;\n",
              "      cursor: pointer;\n",
              "      display: none;\n",
              "      fill: #1967D2;\n",
              "      height: 32px;\n",
              "      padding: 0 0 0 0;\n",
              "      width: 32px;\n",
              "    }\n",
              "\n",
              "    .colab-df-convert:hover {\n",
              "      background-color: #E2EBFA;\n",
              "      box-shadow: 0px 1px 2px rgba(60, 64, 67, 0.3), 0px 1px 3px 1px rgba(60, 64, 67, 0.15);\n",
              "      fill: #174EA6;\n",
              "    }\n",
              "\n",
              "    [theme=dark] .colab-df-convert {\n",
              "      background-color: #3B4455;\n",
              "      fill: #D2E3FC;\n",
              "    }\n",
              "\n",
              "    [theme=dark] .colab-df-convert:hover {\n",
              "      background-color: #434B5C;\n",
              "      box-shadow: 0px 1px 3px 1px rgba(0, 0, 0, 0.15);\n",
              "      filter: drop-shadow(0px 1px 2px rgba(0, 0, 0, 0.3));\n",
              "      fill: #FFFFFF;\n",
              "    }\n",
              "  </style>\n",
              "\n",
              "      <script>\n",
              "        const buttonEl =\n",
              "          document.querySelector('#df-6e02938d-8e78-4c77-b5f3-c8443ec88bb4 button.colab-df-convert');\n",
              "        buttonEl.style.display =\n",
              "          google.colab.kernel.accessAllowed ? 'block' : 'none';\n",
              "\n",
              "        async function convertToInteractive(key) {\n",
              "          const element = document.querySelector('#df-6e02938d-8e78-4c77-b5f3-c8443ec88bb4');\n",
              "          const dataTable =\n",
              "            await google.colab.kernel.invokeFunction('convertToInteractive',\n",
              "                                                     [key], {});\n",
              "          if (!dataTable) return;\n",
              "\n",
              "          const docLinkHtml = 'Like what you see? Visit the ' +\n",
              "            '<a target=\"_blank\" href=https://colab.research.google.com/notebooks/data_table.ipynb>data table notebook</a>'\n",
              "            + ' to learn more about interactive tables.';\n",
              "          element.innerHTML = '';\n",
              "          dataTable['output_type'] = 'display_data';\n",
              "          await google.colab.output.renderOutput(dataTable, element);\n",
              "          const docLink = document.createElement('div');\n",
              "          docLink.innerHTML = docLinkHtml;\n",
              "          element.appendChild(docLink);\n",
              "        }\n",
              "      </script>\n",
              "    </div>\n",
              "  </div>\n",
              "  "
            ]
          },
          "metadata": {}
        }
      ]
    },
    {
      "cell_type": "markdown",
      "source": [
        "After analyzing the breakdown of statistics by gender, we found that the mean and median GPA amongst females was higher than the mean and median GPA's of males. Furthermore, on average, we can see that males and females both walked roughly the same amount of steps. When observing the cardio feature of both genders, we can note that the mean cardio for females is higher than that for males by roughly one unit. In addition, males have a lower fat burn than females in this study. Lastly we notice on average, males have a faster mile time than females. These individual statistics must be taken into account in order to answer our research question. Let's take a look at the distributions of each feature.\n"
      ],
      "metadata": {
        "id": "2y4GHKm2T5Iv"
      }
    },
    {
      "cell_type": "code",
      "source": [
        "fig, axs = plt.subplots(2,2, figsize=(14, 10))\n",
        "\n",
        "#Let's plot the distributions\n",
        "minutes_histplot = sns.histplot(data=fr_DF, x=\"Minutes\", kde=True, color=\"blue\", ax = axs[0][0]).set_title('Miletime Distribution')\n",
        "fatburn_histplot = sns.histplot(data=fr_DF, x=\"FatBurn\", kde=True, color=\"blue\", ax = axs[0][1]).set_title('Fatburn Distribution')\n",
        "cardio_histplot = sns.histplot(data=fr_DF, x=\"Cardio\", kde=True, color=\"blue\", ax = axs[1][0]).set_title('Cardio Distribution')\n",
        "steps_histplot = sns.histplot(data=fr_DF, x=\"Steps\", kde=True, color=\"blue\", ax = axs[1][1]).set_title('Steps Distribution')\n",
        "\n",
        "plt.show()"
      ],
      "metadata": {
        "colab": {
          "base_uri": "https://localhost:8080/",
          "height": 621
        },
        "id": "LtLmAPCbMVTv",
        "outputId": "1b2de470-ffce-40b2-e9f9-33079809294a"
      },
      "execution_count": null,
      "outputs": [
        {
          "output_type": "display_data",
          "data": {
            "text/plain": [
              "<Figure size 1008x720 with 4 Axes>"
            ],
            "image/png": "[encoded data removed]"
          },
          "metadata": {
            "needs_background": "light"
          }
        }
      ]
    },
    {
      "cell_type": "markdown",
      "source": [
        "We will apply a log10-transformation to the cardio feature with an offset of 0.1. This will shift the values away from being centered near zero when put on the log scale. This process is done in order to normally distribute the right skewed data."
      ],
      "metadata": {
        "id": "cRnXmz0eL4h8"
      }
    },
    {
      "cell_type": "code",
      "source": [
        "# log transform with a 0.1 offset\n",
        "\n",
        "fr_DF['Cardio_log10'] = np.log10(fr_DF['Cardio'] + 0.1)"
      ],
      "metadata": {
        "id": "7lr9XomRT8FY"
      },
      "execution_count": null,
      "outputs": []
    },
    {
      "cell_type": "markdown",
      "source": [
        "We can take a look at the feature's boxplots in order to identify any outliers that we must take into account."
      ],
      "metadata": {
        "id": "AfssKtq-NGiv"
      }
    },
    {
      "cell_type": "code",
      "source": [
        "fig, axs = plt.subplots(2,2, figsize=(14, 10))\n",
        "\n",
        "fr_DF.boxplot(column=['Minutes'], ax = axs[0][0]).set_title('Miletime Distribution')\n",
        "fr_DF.boxplot(column=['FatBurn'],ax = axs[0][1]).set_title('Fatburn Distribution')\n",
        "fr_DF.boxplot(column=['Cardio_log10'], ax = axs[1][0]).set_title('Cardio Distribution')\n",
        "fr_DF.boxplot(column=['Steps'], ax = axs[1][1]).set_title('Steps Distribution')\n",
        "\n",
        "plt.show()"
      ],
      "metadata": {
        "colab": {
          "base_uri": "https://localhost:8080/",
          "height": 608
        },
        "id": "FC8JCfuGT_NK",
        "outputId": "2133a54a-53ba-495a-c457-7da7a03f76be"
      },
      "execution_count": null,
      "outputs": [
        {
          "output_type": "display_data",
          "data": {
            "text/plain": [
              "<Figure size 1008x720 with 4 Axes>"
            ],
            "image/png": "[encoded data removed]"
          },
          "metadata": {
            "needs_background": "light"
          }
        }
      ]
    },
    {
      "cell_type": "markdown",
      "source": [
        "The boxplots above reflect the distributions of our features. In addition to this, we can clearly see a visualization for the amount of ouliers of each feature. In order to confidently answer the research question at hand, we must take into consideration outliers. "
      ],
      "metadata": {
        "id": "OiIG0EE4ETxA"
      }
    },
    {
      "cell_type": "code",
      "source": [
        "fig, axs = plt.subplots(2,2, figsize=(14, 10))\n",
        "\n",
        "fr_DF = fr_DF.loc[fr_DF['FatBurn'] < 400] # Let's elimate outliers in FatBurn\n",
        "\n",
        "#Let's plot the distributions\n",
        "minutes_histplot = sns.histplot(data=fr_DF, x=\"Minutes\", kde=True, color=\"blue\", ax = axs[0][0]).set_title('Miletime Distribution')   #this will stay the same\n",
        "fatburn_histplot = sns.histplot(data=fr_DF, x=\"FatBurn\", kde=True, color=\"blue\", ax = axs[0][1]).set_title('Fatburn Distribution')    #we will plot after eliminating outliers\n",
        "cardio_histplot = sns.histplot(data=fr_DF, x=\"Cardio_log10\", kde=True, color=\"blue\", ax = axs[1][0]).set_title('Cardio Distribution') #we will plot after applying log transform + offset\n",
        "steps_histplot = sns.histplot(data=fr_DF, x=\"Steps\", kde=True, color=\"blue\", ax = axs[1][1]).set_title('Steps Distribution')          #this will stay the same\n",
        "\n",
        "plt.show()"
      ],
      "metadata": {
        "colab": {
          "base_uri": "https://localhost:8080/",
          "height": 622
        },
        "id": "khsbEptlEOOA",
        "outputId": "dac0fc49-2d27-4123-c90c-c53bed62155c"
      },
      "execution_count": null,
      "outputs": [
        {
          "output_type": "display_data",
          "data": {
            "text/plain": [
              "<Figure size 1008x720 with 4 Axes>"
            ],
            "image/png": "[encoded data removed]"
          },
          "metadata": {
            "needs_background": "light"
          }
        }
      ]
    },
    {
      "cell_type": "markdown",
      "source": [
        "\n",
        "The miletime distribution will be skewd to the right because of the cuttoff on the left since it is not realistic to run a mile within 3 minutes for the average population. We can also see that the Cardio, Steps, and Fatburn appear to be normally distributed or near normally distributed. \n",
        "\n",
        "Now that we have analyzed the distribution of each feature, we can begin with our Exploratory Analysis. "
      ],
      "metadata": {
        "id": "yiwJSsE_UCy1"
      }
    },
    {
      "cell_type": "markdown",
      "source": [
        "### Exploratory Analysis"
      ],
      "metadata": {
        "id": "BfFvctsN9kTl"
      }
    },
    {
      "cell_type": "markdown",
      "source": [
        "#### Individual Variable Analysis on Overall Population"
      ],
      "metadata": {
        "id": "GVCm7v2a9tYK"
      }
    },
    {
      "cell_type": "markdown",
      "source": [
        "In order to visually see the relationship between GPA and each feature, we will create Scatter plots. Furthermore, we will also show histplots to enhance the visualization for the clusters."
      ],
      "metadata": {
        "id": "zKLMr-QGvPnl"
      }
    },
    {
      "cell_type": "code",
      "source": [
        "fig, axs = plt.subplots(4,2, figsize=(15, 25))\n",
        "\n",
        "# GPA vs Steps\n",
        "steps_gpa = sns.scatterplot(data = fr_DF, x = 'Steps', y = 'GPA', ax=axs[0][0]).set_title('GPA vs Steps')\n",
        "hist_steps = sns.histplot(data = fr_DF, y = 'GPA', x = 'Steps',  bins = 25, ax=axs[0][1]).set_title('GPA vs Steps')\n",
        "\n",
        "# GPA vs FatBurn\n",
        "fatBurn_gpa = sns.scatterplot(data = fr_DF, x = 'FatBurn', y = 'GPA', ax=axs[1][0]).set_title('GPA vs FatBurn')\n",
        "hist_fatBurn = sns.histplot(data = fr_DF, y = 'GPA', x = 'FatBurn',  bins = 25, ax=axs[1][1]).set_title('GPA vs FatBurn')\n",
        "\n",
        "# GPA vs Minutes\n",
        "minutes_gpa = sns.scatterplot(data = fr_DF, x = 'Minutes', y = 'GPA', ax=axs[2][0]).set_title('GPA vs Minutes')\n",
        "hist_minutes = sns.histplot(data = fr_DF, y = 'GPA', x = 'Minutes',  bins = 25, ax=axs[2][1]).set_title('GPA vs Minutes')\n",
        "\n",
        "# GPA vs Cardio\n",
        "cardiolog_gpa = sns.scatterplot(data = fr_DF, x = 'Cardio_log10', y = 'GPA', ax=axs[3][0]).set_title('GPA vs Cardio_log10')\n",
        "hist_cardiolog = sns.histplot(data = fr_DF, y = 'GPA', x = 'Cardio_log10',  bins = 25, ax=axs[3][1]).set_title('GPA vs Cardio_log10')"
      ],
      "metadata": {
        "colab": {
          "base_uri": "https://localhost:8080/",
          "height": 1000
        },
        "id": "BfHZKf_Llrj3",
        "outputId": "7b0c1721-8da7-41dc-89e9-06f7ed0cde1e"
      },
      "execution_count": null,
      "outputs": [
        {
          "output_type": "display_data",
          "data": {
            "text/plain": [
              "<Figure size 1080x1800 with 8 Axes>"
            ],
            "image/png": "[encoded data removed]"
          },
          "metadata": {
            "needs_background": "light"
          }
        }
      ]
    },
    {
      "cell_type": "markdown",
      "source": [
        "From the scatterplots and the histplots above, we see that there is a possible linear correlation between each feature and the GPA. This will allow us to perform linear regression on each feature. However, we need to make sure that gender does not interfere with our analysis."
      ],
      "metadata": {
        "id": "7xwWLMvBv4Ee"
      }
    },
    {
      "cell_type": "markdown",
      "source": [
        "#### Variables Broken by Gender"
      ],
      "metadata": {
        "id": "uR_vU0cR95NM"
      }
    },
    {
      "cell_type": "markdown",
      "source": [
        "Let us break down the relationship between each feature and GPA by gender. Let us see if a similar pattern occurs between the male and female gender groups.\n",
        "\n",
        "\n",
        "\n",
        "\n",
        "\n"
      ],
      "metadata": {
        "id": "xwKFhJ7lxhWQ"
      }
    },
    {
      "cell_type": "code",
      "source": [
        "# Split fr_DF dataframe by gender\n",
        "\n",
        "males_DF = fr_DF.loc[fr_DF['Gender'] == 'M'] \n",
        "females_DF = fr_DF.loc[fr_DF['Gender'] == 'F']"
      ],
      "metadata": {
        "id": "fM3-qDmsUlQm"
      },
      "execution_count": null,
      "outputs": []
    },
    {
      "cell_type": "code",
      "source": [
        "\n",
        "fig, axs = plt.subplots(4,2, figsize=(15, 25))\n",
        "\n",
        "# Effect of mile time on GPA, broken down by gender\n",
        "minutes_male_gpa = sns.scatterplot(data=males_DF, x=\"Minutes\",  y = 'GPA', ax=axs[0][0],).set_title('GPA vs Minutes Among Males')\n",
        "minutes_female_gpa = sns.scatterplot(data=females_DF, x=\"Minutes\",  y = 'GPA', ax=axs[0][1],).set_title('GPA vs Minutes Among Females')\n",
        "\n",
        "# Effect of steps on GPA, broken down by gender\n",
        "steps_male_gpa = sns.scatterplot(data=males_DF, x=\"Steps\",  y = 'GPA', ax=axs[1][0],).set_title('GPA vs Steps Among Males')\n",
        "steps_female_gpa = sns.scatterplot(data=females_DF, x=\"Steps\",  y = 'GPA',  ax=axs[1][1],).set_title('GPA vs Steps Among Females')\n",
        "\n",
        "# Effect of cardio_log10 on GPA, broken down by gender\n",
        "cardio_male_gpa = sns.scatterplot(data=males_DF, x=\"Cardio_log10\",  y = 'GPA', ax=axs[2][0],).set_title('GPA vs Cardio Among Males')\n",
        "cardio_female_gpa = sns.scatterplot(data=females_DF, x=\"Cardio_log10\",  y = 'GPA', ax=axs[2][1],).set_title('GPA vs Cardio Among Females')\n",
        "\n",
        "# Effect of FatBurn on GPA, broken down by gender\n",
        "fatburn_male_gpa = sns.scatterplot(data=males_DF, x=\"FatBurn\",  y = 'GPA',  ax=axs[3][0]).set_title('GPA vs FatBurn Among Males')\n",
        "fatburn_female_gpa = sns.scatterplot(data=females_DF, x=\"FatBurn\",  y = 'GPA', ax=axs[3][1]).set_title('GPA vs FatBurn Among Females')\n",
        "\n",
        "\n",
        "\n",
        "plt.show()"
      ],
      "metadata": {
        "colab": {
          "base_uri": "https://localhost:8080/",
          "height": 1000
        },
        "id": "LgTJ4J3-UmMP",
        "outputId": "0b9b3e77-4fd7-4950-c95e-460ebedfeae0"
      },
      "execution_count": null,
      "outputs": [
        {
          "output_type": "display_data",
          "data": {
            "text/plain": [
              "<Figure size 1080x1800 with 8 Axes>"
            ],
            "image/png": "[encoded data removed]"
          },
          "metadata": {
            "needs_background": "light"
          }
        }
      ]
    },
    {
      "cell_type": "markdown",
      "source": [
        "Looking at each scatterplot broken down by gender, we observe that the relationship between GPA and each feature is similar between both males and females. This suggests that gender does not influence the relationship between GPA and each feature. \n",
        "\n",
        "We have cleaned our data, checked the distributions for each feature and transformed them respectively, eliminated outliers from our feature columns, and made sure that gender *does not* interfere with our analysis. We now have an understanding of our data and can proceed with linear regression.\n",
        "\n"
      ],
      "metadata": {
        "id": "x4_GzIoCUrZt"
      }
    },
    {
      "cell_type": "markdown",
      "source": [
        "#### Linear Regression Models\n"
      ],
      "metadata": {
        "id": "o04RJMZhHdRV"
      }
    },
    {
      "cell_type": "markdown",
      "source": [
        "Since we will be performing linear regression, which is a gradient descent based algorithm, we will need to scale the features in order to standardize the range. "
      ],
      "metadata": {
        "id": "zlfm0Ss7nhfH"
      }
    },
    {
      "cell_type": "code",
      "source": [
        "# Standardize the features\n",
        "\n",
        "X = fr_DF[['Minutes','Cardio_log10','FatBurn','Steps']] #Predictor Features\n",
        "Y = fr_DF['GPA']  #Outcome Feature\n",
        "\n",
        "scaler = preprocessing.StandardScaler().fit(X) \n",
        "X_scaled = scaler.transform(X)  \n",
        "\n",
        "scaled_df = pd.DataFrame(X_scaled, columns = ['Minutes','Cardio_log10','FatBurn','Steps'])\n",
        "scaled_df['GPA'] = Y\n",
        "scaled_df.head()"
      ],
      "metadata": {
        "colab": {
          "base_uri": "https://localhost:8080/",
          "height": 206
        },
        "id": "IPaKLDbtHbVV",
        "outputId": "3ce656d9-863c-4fab-9394-80bc485fe47f"
      },
      "execution_count": null,
      "outputs": [
        {
          "output_type": "execute_result",
          "data": {
            "text/plain": [
              "    Minutes  Cardio_log10   FatBurn     Steps   GPA\n",
              "0 -0.240761     -0.138759 -0.354395  0.312533  4.00\n",
              "1 -0.607827      1.167450  1.395542 -0.718707  3.26\n",
              "2  0.838094     -0.697974  0.708026  0.457251  3.07\n",
              "3 -0.033289      0.348676 -0.229172  0.134318  4.00\n",
              "4 -0.470577      0.286218 -0.383185  1.416619  2.87"
            ],
            "text/html": [
              "\n",
              "  <div id=\"df-82946e13-0833-4890-ab4f-de704f33d6c6\">\n",
              "    <div class=\"colab-df-container\">\n",
              "      <div>\n",
              "<style scoped>\n",
              "    .dataframe tbody tr th:only-of-type {\n",
              "        vertical-align: middle;\n",
              "    }\n",
              "\n",
              "    .dataframe tbody tr th {\n",
              "        vertical-align: top;\n",
              "    }\n",
              "\n",
              "    .dataframe thead th {\n",
              "        text-align: right;\n",
              "    }\n",
              "</style>\n",
              "<table border=\"1\" class=\"dataframe\">\n",
              "  <thead>\n",
              "    <tr style=\"text-align: right;\">\n",
              "      <th></th>\n",
              "      <th>Minutes</th>\n",
              "      <th>Cardio_log10</th>\n",
              "      <th>FatBurn</th>\n",
              "      <th>Steps</th>\n",
              "      <th>GPA</th>\n",
              "    </tr>\n",
              "  </thead>\n",
              "  <tbody>\n",
              "    <tr>\n",
              "      <th>0</th>\n",
              "      <td>-0.240761</td>\n",
              "      <td>-0.138759</td>\n",
              "      <td>-0.354395</td>\n",
              "      <td>0.312533</td>\n",
              "      <td>4.00</td>\n",
              "    </tr>\n",
              "    <tr>\n",
              "      <th>1</th>\n",
              "      <td>-0.607827</td>\n",
              "      <td>1.167450</td>\n",
              "      <td>1.395542</td>\n",
              "      <td>-0.718707</td>\n",
              "      <td>3.26</td>\n",
              "    </tr>\n",
              "    <tr>\n",
              "      <th>2</th>\n",
              "      <td>0.838094</td>\n",
              "      <td>-0.697974</td>\n",
              "      <td>0.708026</td>\n",
              "      <td>0.457251</td>\n",
              "      <td>3.07</td>\n",
              "    </tr>\n",
              "    <tr>\n",
              "      <th>3</th>\n",
              "      <td>-0.033289</td>\n",
              "      <td>0.348676</td>\n",
              "      <td>-0.229172</td>\n",
              "      <td>0.134318</td>\n",
              "      <td>4.00</td>\n",
              "    </tr>\n",
              "    <tr>\n",
              "      <th>4</th>\n",
              "      <td>-0.470577</td>\n",
              "      <td>0.286218</td>\n",
              "      <td>-0.383185</td>\n",
              "      <td>1.416619</td>\n",
              "      <td>2.87</td>\n",
              "    </tr>\n",
              "  </tbody>\n",
              "</table>\n",
              "</div>\n",
              "      <button class=\"colab-df-convert\" onclick=\"convertToInteractive('df-82946e13-0833-4890-ab4f-de704f33d6c6')\"\n",
              "              title=\"Convert this dataframe to an interactive table.\"\n",
              "              style=\"display:none;\">\n",
              "        \n",
              "  <svg xmlns=\"http://www.w3.org/2000/svg\" height=\"24px\"viewBox=\"0 0 24 24\"\n",
              "       width=\"24px\">\n",
              "    <path d=\"M0 0h24v24H0V0z\" fill=\"none\"/>\n",
              "    <path d=\"M18.56 5.44l.94 2.06.94-2.06 2.06-.94-2.06-.94-.94-2.06-.94 2.06-2.06.94zm-11 1L8.5 8.5l.94-2.06 2.06-.94-2.06-.94L8.5 2.5l-.94 2.06-2.06.94zm10 10l.94 2.06.94-2.06 2.06-.94-2.06-.94-.94-2.06-.94 2.06-2.06.94z\"/><path d=\"M17.41 7.96l-1.37-1.37c-.4-.4-.92-.59-1.43-.59-.52 0-1.04.2-1.43.59L10.3 9.45l-7.72 7.72c-.78.78-.78 2.05 0 2.83L4 21.41c.39.39.9.59 1.41.59.51 0 1.02-.2 1.41-.59l7.78-7.78 2.81-2.81c.8-.78.8-2.07 0-2.86zM5.41 20L4 18.59l7.72-7.72 1.47 1.35L5.41 20z\"/>\n",
              "  </svg>\n",
              "      </button>\n",
              "      \n",
              "  <style>\n",
              "    .colab-df-container {\n",
              "      display:flex;\n",
              "      flex-wrap:wrap;\n",
              "      gap: 12px;\n",
              "    }\n",
              "\n",
              "    .colab-df-convert {\n",
              "      background-color: #E8F0FE;\n",
              "      border: none;\n",
              "      border-radius: 50%;\n",
              "      cursor: pointer;\n",
              "      display: none;\n",
              "      fill: #1967D2;\n",
              "      height: 32px;\n",
              "      padding: 0 0 0 0;\n",
              "      width: 32px;\n",
              "    }\n",
              "\n",
              "    .colab-df-convert:hover {\n",
              "      background-color: #E2EBFA;\n",
              "      box-shadow: 0px 1px 2px rgba(60, 64, 67, 0.3), 0px 1px 3px 1px rgba(60, 64, 67, 0.15);\n",
              "      fill: #174EA6;\n",
              "    }\n",
              "\n",
              "    [theme=dark] .colab-df-convert {\n",
              "      background-color: #3B4455;\n",
              "      fill: #D2E3FC;\n",
              "    }\n",
              "\n",
              "    [theme=dark] .colab-df-convert:hover {\n",
              "      background-color: #434B5C;\n",
              "      box-shadow: 0px 1px 3px 1px rgba(0, 0, 0, 0.15);\n",
              "      filter: drop-shadow(0px 1px 2px rgba(0, 0, 0, 0.3));\n",
              "      fill: #FFFFFF;\n",
              "    }\n",
              "  </style>\n",
              "\n",
              "      <script>\n",
              "        const buttonEl =\n",
              "          document.querySelector('#df-82946e13-0833-4890-ab4f-de704f33d6c6 button.colab-df-convert');\n",
              "        buttonEl.style.display =\n",
              "          google.colab.kernel.accessAllowed ? 'block' : 'none';\n",
              "\n",
              "        async function convertToInteractive(key) {\n",
              "          const element = document.querySelector('#df-82946e13-0833-4890-ab4f-de704f33d6c6');\n",
              "          const dataTable =\n",
              "            await google.colab.kernel.invokeFunction('convertToInteractive',\n",
              "                                                     [key], {});\n",
              "          if (!dataTable) return;\n",
              "\n",
              "          const docLinkHtml = 'Like what you see? Visit the ' +\n",
              "            '<a target=\"_blank\" href=https://colab.research.google.com/notebooks/data_table.ipynb>data table notebook</a>'\n",
              "            + ' to learn more about interactive tables.';\n",
              "          element.innerHTML = '';\n",
              "          dataTable['output_type'] = 'display_data';\n",
              "          await google.colab.output.renderOutput(dataTable, element);\n",
              "          const docLink = document.createElement('div');\n",
              "          docLink.innerHTML = docLinkHtml;\n",
              "          element.appendChild(docLink);\n",
              "        }\n",
              "      </script>\n",
              "    </div>\n",
              "  </div>\n",
              "  "
            ]
          },
          "metadata": {},
          "execution_count": 15
        }
      ]
    },
    {
      "cell_type": "markdown",
      "source": [
        "The above dataframe shows us the standardized features after we scale the original model. We can now begin performing linear regression on the combinations of these features to observe the P-Values and coefficients. This analysis allows us to see how well the features act as predictors for determining the GPA. Since we have 4 distinct features: Minutes, Steps, FatBurn, Cardio_log10, we will have a total of 15 feature combinations."
      ],
      "metadata": {
        "id": "cgMyIkvJof8Z"
      }
    },
    {
      "cell_type": "code",
      "source": [
        "results = []    #Stores the Linear Regression models of all 15 combinations of the 4 features\n",
        "\n",
        "# GPA - Minutes Model\n",
        "model_M = smf.ols(formula='GPA ~ Minutes', data=scaled_df)\n",
        "results.append(model_M.fit())\n",
        "\n",
        "# GPA - Cardio_log10 Model\n",
        "model_C = smf.ols(formula='GPA ~ Cardio_log10', data=scaled_df)\n",
        "results.append(model_C.fit())\n",
        "\n",
        "# GPA - FatBurn Model\n",
        "model_F = smf.ols(formula='GPA ~ FatBurn', data=scaled_df)\n",
        "results.append(model_F.fit())\n",
        "\n",
        "# GPA - Steps Model\n",
        "model_S = smf.ols(formula='GPA ~ Steps', data=scaled_df)\n",
        "results.append(model_S.fit())\n",
        "\n",
        "# GPA - Steps + Cardio_log10 Model\n",
        "model_SC = smf.ols(formula='GPA ~ Steps + Cardio_log10', data=scaled_df)\n",
        "results.append(model_SC.fit())\n",
        "\n",
        "# GPA - Steps + Minutes Model\n",
        "model_SM = smf.ols(formula='GPA ~ Steps + Minutes', data=scaled_df)\n",
        "results.append(model_SM.fit())\n",
        "\n",
        "# GPA - Steps + FatBurn Model\n",
        "model_SF = smf.ols(formula='GPA ~ Steps + FatBurn', data=scaled_df)\n",
        "results.append(model_SF.fit())\n",
        "\n",
        "# GPA - FatBurn + Cardio_log10 Model\n",
        "model_FC = smf.ols(formula='GPA ~ FatBurn + Cardio_log10', data=scaled_df)\n",
        "results.append(model_FC.fit())\n",
        "\n",
        "# GPA - FatBurn + Minutes Model\n",
        "model_FM = smf.ols(formula='GPA ~ FatBurn + Minutes', data=scaled_df)\n",
        "results.append(model_FM.fit())\n",
        "\n",
        "# GPA - Minutes + Cardio_log10 Model\n",
        "model_MC = smf.ols(formula='GPA ~ Minutes + Cardio_log10', data=scaled_df)\n",
        "results.append(model_MC.fit())\n",
        "\n",
        "# GPA - Minutes + Cardio_log10 + FatBurn Model\n",
        "model_MCF = smf.ols(formula='GPA ~ Minutes + Cardio_log10 + FatBurn', data=scaled_df)\n",
        "results.append(model_MCF.fit())\n",
        "\n",
        "# GPA - Minutes + Cardio_log10 + Steps Model\n",
        "model_MCS = smf.ols(formula='GPA ~ Minutes + Cardio_log10 + Steps', data=scaled_df)\n",
        "results.append(model_MCS.fit())\n",
        "\n",
        "# GPA - Minutes + FatBurn + Steps Model\n",
        "model_MFS = smf.ols(formula='GPA ~ Minutes + FatBurn + Steps', data=scaled_df)\n",
        "results.append(model_MFS.fit())\n",
        "\n",
        "# GPA - Cardio_log10 + FatBurn + Steps Model\n",
        "model_CFS = smf.ols(formula='GPA ~ Cardio_log10 + FatBurn + Steps', data=scaled_df)\n",
        "results.append(model_CFS.fit())\n",
        "\n",
        "# GPA - Minutes + Cardio_log10 + Steps Model\n",
        "model_MCFS = smf.ols(formula='GPA ~ Minutes + Cardio_log10 + FatBurn + Steps', data=scaled_df)\n",
        "results.append(model_MCFS.fit())"
      ],
      "metadata": {
        "id": "tsyVPa-aK7Du"
      },
      "execution_count": null,
      "outputs": []
    },
    {
      "cell_type": "markdown",
      "source": [
        "##### P-Values and Coefficients"
      ],
      "metadata": {
        "id": "zNLNJbEAqlKH"
      }
    },
    {
      "cell_type": "markdown",
      "source": [
        "Now that we have the linear regression models made and fitted, we can observe the P-values and coefficients of each feature combination model. The P-value will express the statistical significance of our data. The threshold for the statistical significance will be 0.05. \n",
        "\n",
        "- If P-Value > 0.05 : The predictor is not significant\n",
        "- If P-Value < 0.05 : The predictor is significant, and its correlation relies on the coefficient"
      ],
      "metadata": {
        "id": "EC_vwaV-1xUo"
      }
    },
    {
      "cell_type": "code",
      "source": [
        "# Minutes\n",
        "print('P-values:\\n', results[0].pvalues[1:].to_string())\n",
        "print('\\nCoef:\\n', results[0].params[1:].to_string())"
      ],
      "metadata": {
        "colab": {
          "base_uri": "https://localhost:8080/"
        },
        "id": "fG8i5kONQZ-M",
        "outputId": "889b2121-508d-45d0-b241-b08a3f460aad"
      },
      "execution_count": null,
      "outputs": [
        {
          "output_type": "stream",
          "name": "stdout",
          "text": [
            "P-values:\n",
            " Minutes    0.967659\n",
            "\n",
            "Coef:\n",
            " Minutes    0.001315\n"
          ]
        }
      ]
    },
    {
      "cell_type": "code",
      "source": [
        "# Cardio_log10\n",
        "print('P-values:\\n', results[1].pvalues[1:].to_string())\n",
        "print('\\nCoef:\\n', results[1].params[1:].to_string())"
      ],
      "metadata": {
        "colab": {
          "base_uri": "https://localhost:8080/"
        },
        "id": "vIFzORx8RJxs",
        "outputId": "9691f7d1-036c-4375-a9bf-70768c8add97"
      },
      "execution_count": null,
      "outputs": [
        {
          "output_type": "stream",
          "name": "stdout",
          "text": [
            "P-values:\n",
            " Cardio_log10    0.598942\n",
            "\n",
            "Coef:\n",
            " Cardio_log10    0.017292\n"
          ]
        }
      ]
    },
    {
      "cell_type": "code",
      "source": [
        "# FatBurn\n",
        "print('P-values:\\n',results[2].pvalues[1:].to_string())\n",
        "print('\\nCoef:\\n',results[2].params[1:].to_string())"
      ],
      "metadata": {
        "colab": {
          "base_uri": "https://localhost:8080/"
        },
        "id": "gzRgZKpYSIAt",
        "outputId": "93c16646-53e6-458a-f5c4-28ee773ba413"
      },
      "execution_count": null,
      "outputs": [
        {
          "output_type": "stream",
          "name": "stdout",
          "text": [
            "P-values:\n",
            " FatBurn    0.027838\n",
            "\n",
            "Coef:\n",
            " FatBurn    0.071652\n"
          ]
        }
      ]
    },
    {
      "cell_type": "code",
      "source": [
        "# Steps\n",
        "print('P-values:\\n',results[3].pvalues[1:].to_string())\n",
        "print('\\nCoef:\\n',results[3].params[1:].to_string())"
      ],
      "metadata": {
        "colab": {
          "base_uri": "https://localhost:8080/"
        },
        "id": "1AONYPhKS_LU",
        "outputId": "f9fcb8d4-6e36-4675-91e1-df65877a0d8a"
      },
      "execution_count": null,
      "outputs": [
        {
          "output_type": "stream",
          "name": "stdout",
          "text": [
            "P-values:\n",
            " Steps    0.415254\n",
            "\n",
            "Coef:\n",
            " Steps    0.02654\n"
          ]
        }
      ]
    },
    {
      "cell_type": "code",
      "source": [
        "# Steps + Cardio_log10\n",
        "print('P-values:\\n',results[4].pvalues[1:].to_string())\n",
        "print('\\nCoef:\\n',results[4].params[1:].to_string())"
      ],
      "metadata": {
        "colab": {
          "base_uri": "https://localhost:8080/"
        },
        "id": "88wK61DqTElV",
        "outputId": "246dbacb-d728-45bd-8019-c3a612fea532"
      },
      "execution_count": null,
      "outputs": [
        {
          "output_type": "stream",
          "name": "stdout",
          "text": [
            "P-values:\n",
            " Steps           0.502213\n",
            "Cardio_log10    0.800516\n",
            "\n",
            "Coef:\n",
            " Steps           0.023406\n",
            "Cardio_log10    0.008893\n"
          ]
        }
      ]
    },
    {
      "cell_type": "code",
      "source": [
        "# Steps + Minutes\n",
        "print('P-values:\\n',results[5].pvalues[1:].to_string())\n",
        "print('\\nCoef:\\n',results[5].params[1:].to_string())"
      ],
      "metadata": {
        "colab": {
          "base_uri": "https://localhost:8080/"
        },
        "id": "vRgjytibTIM0",
        "outputId": "0db2deb5-ad77-482d-ee81-ed553338da50"
      },
      "execution_count": null,
      "outputs": [
        {
          "output_type": "stream",
          "name": "stdout",
          "text": [
            "P-values:\n",
            " Steps      0.389860\n",
            "Minutes    0.779311\n",
            "\n",
            "Coef:\n",
            " Steps      0.029210\n",
            "Minutes    0.009473\n"
          ]
        }
      ]
    },
    {
      "cell_type": "code",
      "source": [
        "# Steps + FatBurn\n",
        "print('P-values:\\n',results[6].pvalues[1:].to_string())\n",
        "print('\\nCoef:\\n',results[6].params[1:].to_string())"
      ],
      "metadata": {
        "colab": {
          "base_uri": "https://localhost:8080/"
        },
        "id": "VGztBAoYTMK7",
        "outputId": "dfeb4659-1008-4014-a1bb-50a96be95e74"
      },
      "execution_count": null,
      "outputs": [
        {
          "output_type": "stream",
          "name": "stdout",
          "text": [
            "P-values:\n",
            " Steps      0.82778\n",
            "FatBurn    0.04009\n",
            "\n",
            "Coef:\n",
            " Steps      0.007350\n",
            "FatBurn    0.069619\n"
          ]
        }
      ]
    },
    {
      "cell_type": "code",
      "source": [
        "# FatBurn + Cardio_log10\n",
        "print('P-values:\\n',results[7].pvalues[1:].to_string())\n",
        "print('\\nCoef:\\n',results[7].params[1:].to_string())"
      ],
      "metadata": {
        "colab": {
          "base_uri": "https://localhost:8080/"
        },
        "id": "CM3NYLQ2Tewz",
        "outputId": "22cc381f-5db1-4d1c-c17b-d17c343d9d69"
      },
      "execution_count": null,
      "outputs": [
        {
          "output_type": "stream",
          "name": "stdout",
          "text": [
            "P-values:\n",
            " FatBurn         0.028486\n",
            "Cardio_log10    0.620457\n",
            "\n",
            "Coef:\n",
            " FatBurn         0.079575\n",
            "Cardio_log10   -0.018082\n"
          ]
        }
      ]
    },
    {
      "cell_type": "code",
      "source": [
        "# FatBurn + Minutes\n",
        "print('P-values:\\n',results[8].pvalues[1:].to_string())\n",
        "print('\\nCoef:\\n',results[8].params[1:].to_string())"
      ],
      "metadata": {
        "colab": {
          "base_uri": "https://localhost:8080/"
        },
        "id": "uIl5KOqPTpt7",
        "outputId": "e82de2c6-9a2c-4eb4-9d7e-1e3b3c9fbfe6"
      },
      "execution_count": null,
      "outputs": [
        {
          "output_type": "stream",
          "name": "stdout",
          "text": [
            "P-values:\n",
            " FatBurn    0.026091\n",
            "Minutes    0.726505\n",
            "\n",
            "Coef:\n",
            " FatBurn    0.073673\n",
            "Minutes   -0.011484\n"
          ]
        }
      ]
    },
    {
      "cell_type": "code",
      "source": [
        "# Minutes + Cardio_log10\n",
        "print('P-values:\\n',results[9].pvalues[1:].to_string())\n",
        "print('\\nCoef:\\n',results[9].params[1:].to_string())"
      ],
      "metadata": {
        "colab": {
          "base_uri": "https://localhost:8080/"
        },
        "id": "dlHJvWhBTutz",
        "outputId": "3efe0763-5b69-4120-d546-39a94ff3fce3"
      },
      "execution_count": null,
      "outputs": [
        {
          "output_type": "stream",
          "name": "stdout",
          "text": [
            "P-values:\n",
            " Minutes         0.937045\n",
            "Cardio_log10    0.596251\n",
            "\n",
            "Coef:\n",
            " Minutes         0.002571\n",
            "Cardio_log10    0.017482\n"
          ]
        }
      ]
    },
    {
      "cell_type": "code",
      "source": [
        "# Minutes + Cardio_log10 + FatBurn\n",
        "print('P-values:\\n',results[10].pvalues[1:].to_string())\n",
        "print('\\nCoef:\\n',results[10].params[1:].to_string())"
      ],
      "metadata": {
        "colab": {
          "base_uri": "https://localhost:8080/"
        },
        "id": "_9yDt7KTT0C7",
        "outputId": "668f8db7-b901-49fe-f40c-4caed64178a1"
      },
      "execution_count": null,
      "outputs": [
        {
          "output_type": "stream",
          "name": "stdout",
          "text": [
            "P-values:\n",
            " Minutes         0.659992\n",
            "Cardio_log10    0.573907\n",
            "FatBurn         0.025688\n",
            "\n",
            "Coef:\n",
            " Minutes        -0.014665\n",
            "Cardio_log10   -0.020850\n",
            "FatBurn         0.083369\n"
          ]
        }
      ]
    },
    {
      "cell_type": "code",
      "source": [
        "# Minutes + Cardio_log10 + Steps\n",
        "print('P-values:\\n',results[11].pvalues[1:].to_string())\n",
        "print('\\nCoef:\\n',results[11].params[1:].to_string())"
      ],
      "metadata": {
        "colab": {
          "base_uri": "https://localhost:8080/"
        },
        "id": "2Qr-5C-FUC1r",
        "outputId": "cd0136b1-d58c-41c4-dc40-e3038dde3765"
      },
      "execution_count": null,
      "outputs": [
        {
          "output_type": "stream",
          "name": "stdout",
          "text": [
            "P-values:\n",
            " Minutes         0.785229\n",
            "Cardio_log10    0.807107\n",
            "Steps           0.471923\n",
            "\n",
            "Coef:\n",
            " Minutes         0.009225\n",
            "Cardio_log10    0.008604\n",
            "Steps           0.026108\n"
          ]
        }
      ]
    },
    {
      "cell_type": "code",
      "source": [
        "# Minutes + FatBurn + Steps\n",
        "print('P-values:\\n',results[12].pvalues[1:].to_string())\n",
        "print('\\nCoef:\\n',results[12].params[1:].to_string())"
      ],
      "metadata": {
        "colab": {
          "base_uri": "https://localhost:8080/"
        },
        "id": "ohiUxcTaU0zl",
        "outputId": "d8772d2c-c777-445b-f504-84f19c83d32e"
      },
      "execution_count": null,
      "outputs": [
        {
          "output_type": "stream",
          "name": "stdout",
          "text": [
            "P-values:\n",
            " Minutes    0.770179\n",
            "FatBurn    0.040107\n",
            "Steps      0.918514\n",
            "\n",
            "Coef:\n",
            " Minutes   -0.010238\n",
            "FatBurn    0.072433\n",
            "Steps      0.003689\n"
          ]
        }
      ]
    },
    {
      "cell_type": "code",
      "source": [
        "# Cardio_log10 + FatBurn + Steps\n",
        "print('P-values:\\n',results[13].pvalues[1:].to_string())\n",
        "print('\\nCoef:\\n',results[13].params[1:].to_string())"
      ],
      "metadata": {
        "colab": {
          "base_uri": "https://localhost:8080/"
        },
        "id": "tzUyetwFU5pF",
        "outputId": "1e009fb8-aef3-443b-e159-e4841ae8fe44"
      },
      "execution_count": null,
      "outputs": [
        {
          "output_type": "stream",
          "name": "stdout",
          "text": [
            "P-values:\n",
            " Cardio_log10    0.565132\n",
            "FatBurn         0.034424\n",
            "Steps           0.714974\n",
            "\n",
            "Coef:\n",
            " Cardio_log10   -0.021839\n",
            "FatBurn         0.077673\n",
            "Steps           0.012826\n"
          ]
        }
      ]
    },
    {
      "cell_type": "code",
      "source": [
        "# Minutes + Cardio_log10 + FatBurn + Steps\n",
        "print('P-values:\\n', results[14].pvalues[1:].to_string())\n",
        "print('\\nCoef:\\n', results[14].params[1:].to_string())"
      ],
      "metadata": {
        "colab": {
          "base_uri": "https://localhost:8080/"
        },
        "id": "1fG8f-JMOt4b",
        "outputId": "70772427-9f07-4251-8eaf-2953be90fa87"
      },
      "execution_count": null,
      "outputs": [
        {
          "output_type": "stream",
          "name": "stdout",
          "text": [
            "P-values:\n",
            " Minutes         0.732890\n",
            "Cardio_log10    0.547633\n",
            "FatBurn         0.033742\n",
            "Steps           0.812261\n",
            "\n",
            "Coef:\n",
            " Minutes        -0.012009\n",
            "Cardio_log10   -0.022928\n",
            "FatBurn         0.081376\n",
            "Steps           0.008805\n"
          ]
        }
      ]
    },
    {
      "cell_type": "code",
      "source": [
        "# Summary of the results of features as independent predictors\n",
        "\n",
        "p_dict = {'Feature': ['Minutes','Cardio_log10','FatBurn','Steps'] , \n",
        "          'P-Value': [results[0].pvalues[1:][0], results[1].pvalues[1:][0], results[2].pvalues[1:][0], results[3].pvalues[1:][0]] , \n",
        "          'Coefficient': [results[0].params[1:][0], results[1].params[1:][0], results[2].params[1:][0], results[3].params[1:][0]]\n",
        "          }\n",
        "\n",
        "pval_df = pd.DataFrame(p_dict)\n",
        "\n",
        "display(pval_df)\n",
        "\n",
        "\n"
      ],
      "metadata": {
        "colab": {
          "base_uri": "https://localhost:8080/",
          "height": 175
        },
        "id": "gnLvZ7lKeTBp",
        "outputId": "c8b6e699-e88e-47ce-ddd9-f1761d87b2bc"
      },
      "execution_count": null,
      "outputs": [
        {
          "output_type": "display_data",
          "data": {
            "text/plain": [
              "        Feature   P-Value  Coefficient\n",
              "0       Minutes  0.967659     0.001315\n",
              "1  Cardio_log10  0.598942     0.017292\n",
              "2       FatBurn  0.027838     0.071652\n",
              "3         Steps  0.415254     0.026540"
            ],
            "text/html": [
              "\n",
              "  <div id=\"df-b34edead-51ab-452f-acca-a676073df2ca\">\n",
              "    <div class=\"colab-df-container\">\n",
              "      <div>\n",
              "<style scoped>\n",
              "    .dataframe tbody tr th:only-of-type {\n",
              "        vertical-align: middle;\n",
              "    }\n",
              "\n",
              "    .dataframe tbody tr th {\n",
              "        vertical-align: top;\n",
              "    }\n",
              "\n",
              "    .dataframe thead th {\n",
              "        text-align: right;\n",
              "    }\n",
              "</style>\n",
              "<table border=\"1\" class=\"dataframe\">\n",
              "  <thead>\n",
              "    <tr style=\"text-align: right;\">\n",
              "      <th></th>\n",
              "      <th>Feature</th>\n",
              "      <th>P-Value</th>\n",
              "      <th>Coefficient</th>\n",
              "    </tr>\n",
              "  </thead>\n",
              "  <tbody>\n",
              "    <tr>\n",
              "      <th>0</th>\n",
              "      <td>Minutes</td>\n",
              "      <td>0.967659</td>\n",
              "      <td>0.001315</td>\n",
              "    </tr>\n",
              "    <tr>\n",
              "      <th>1</th>\n",
              "      <td>Cardio_log10</td>\n",
              "      <td>0.598942</td>\n",
              "      <td>0.017292</td>\n",
              "    </tr>\n",
              "    <tr>\n",
              "      <th>2</th>\n",
              "      <td>FatBurn</td>\n",
              "      <td>0.027838</td>\n",
              "      <td>0.071652</td>\n",
              "    </tr>\n",
              "    <tr>\n",
              "      <th>3</th>\n",
              "      <td>Steps</td>\n",
              "      <td>0.415254</td>\n",
              "      <td>0.026540</td>\n",
              "    </tr>\n",
              "  </tbody>\n",
              "</table>\n",
              "</div>\n",
              "      <button class=\"colab-df-convert\" onclick=\"convertToInteractive('df-b34edead-51ab-452f-acca-a676073df2ca')\"\n",
              "              title=\"Convert this dataframe to an interactive table.\"\n",
              "              style=\"display:none;\">\n",
              "        \n",
              "  <svg xmlns=\"http://www.w3.org/2000/svg\" height=\"24px\"viewBox=\"0 0 24 24\"\n",
              "       width=\"24px\">\n",
              "    <path d=\"M0 0h24v24H0V0z\" fill=\"none\"/>\n",
              "    <path d=\"M18.56 5.44l.94 2.06.94-2.06 2.06-.94-2.06-.94-.94-2.06-.94 2.06-2.06.94zm-11 1L8.5 8.5l.94-2.06 2.06-.94-2.06-.94L8.5 2.5l-.94 2.06-2.06.94zm10 10l.94 2.06.94-2.06 2.06-.94-2.06-.94-.94-2.06-.94 2.06-2.06.94z\"/><path d=\"M17.41 7.96l-1.37-1.37c-.4-.4-.92-.59-1.43-.59-.52 0-1.04.2-1.43.59L10.3 9.45l-7.72 7.72c-.78.78-.78 2.05 0 2.83L4 21.41c.39.39.9.59 1.41.59.51 0 1.02-.2 1.41-.59l7.78-7.78 2.81-2.81c.8-.78.8-2.07 0-2.86zM5.41 20L4 18.59l7.72-7.72 1.47 1.35L5.41 20z\"/>\n",
              "  </svg>\n",
              "      </button>\n",
              "      \n",
              "  <style>\n",
              "    .colab-df-container {\n",
              "      display:flex;\n",
              "      flex-wrap:wrap;\n",
              "      gap: 12px;\n",
              "    }\n",
              "\n",
              "    .colab-df-convert {\n",
              "      background-color: #E8F0FE;\n",
              "      border: none;\n",
              "      border-radius: 50%;\n",
              "      cursor: pointer;\n",
              "      display: none;\n",
              "      fill: #1967D2;\n",
              "      height: 32px;\n",
              "      padding: 0 0 0 0;\n",
              "      width: 32px;\n",
              "    }\n",
              "\n",
              "    .colab-df-convert:hover {\n",
              "      background-color: #E2EBFA;\n",
              "      box-shadow: 0px 1px 2px rgba(60, 64, 67, 0.3), 0px 1px 3px 1px rgba(60, 64, 67, 0.15);\n",
              "      fill: #174EA6;\n",
              "    }\n",
              "\n",
              "    [theme=dark] .colab-df-convert {\n",
              "      background-color: #3B4455;\n",
              "      fill: #D2E3FC;\n",
              "    }\n",
              "\n",
              "    [theme=dark] .colab-df-convert:hover {\n",
              "      background-color: #434B5C;\n",
              "      box-shadow: 0px 1px 3px 1px rgba(0, 0, 0, 0.15);\n",
              "      filter: drop-shadow(0px 1px 2px rgba(0, 0, 0, 0.3));\n",
              "      fill: #FFFFFF;\n",
              "    }\n",
              "  </style>\n",
              "\n",
              "      <script>\n",
              "        const buttonEl =\n",
              "          document.querySelector('#df-b34edead-51ab-452f-acca-a676073df2ca button.colab-df-convert');\n",
              "        buttonEl.style.display =\n",
              "          google.colab.kernel.accessAllowed ? 'block' : 'none';\n",
              "\n",
              "        async function convertToInteractive(key) {\n",
              "          const element = document.querySelector('#df-b34edead-51ab-452f-acca-a676073df2ca');\n",
              "          const dataTable =\n",
              "            await google.colab.kernel.invokeFunction('convertToInteractive',\n",
              "                                                     [key], {});\n",
              "          if (!dataTable) return;\n",
              "\n",
              "          const docLinkHtml = 'Like what you see? Visit the ' +\n",
              "            '<a target=\"_blank\" href=https://colab.research.google.com/notebooks/data_table.ipynb>data table notebook</a>'\n",
              "            + ' to learn more about interactive tables.';\n",
              "          element.innerHTML = '';\n",
              "          dataTable['output_type'] = 'display_data';\n",
              "          await google.colab.output.renderOutput(dataTable, element);\n",
              "          const docLink = document.createElement('div');\n",
              "          docLink.innerHTML = docLinkHtml;\n",
              "          element.appendChild(docLink);\n",
              "        }\n",
              "      </script>\n",
              "    </div>\n",
              "  </div>\n",
              "  "
            ]
          },
          "metadata": {}
        }
      ]
    },
    {
      "cell_type": "markdown",
      "source": [
        "After looking at the results, we see that minutes, cardio_log10, and steps all have P-Values greater than 0.05 threshold when they are predictors in our linear regression models. This means that they are not statistically significant, or in other words, they do not have a significant linear relationship with GPA. Therefore, these three features do not give us strong evidence for them to act as good predictors for the GPA and so we retain the null hypothesis and reject our hypothesis when physical fitness is defined as any combination of Minutes, Cardio, or Steps.\n",
        "\n",
        "On the other hand, FatBurn is the only feature where its P-Value is less than 0.05 threshold when it is a predictor in our linear regression models. This means that FatBurn is the only feature that is statistically significant. In other words, there is a significant linear relationship between FatBurn and GPA. However, the coefficient of FatBurn is so small that it has little to no effect on GPA which means they have no correlation. Therefore our hypothesis is wrong when physical fitness is determined by FatBurn."
      ],
      "metadata": {
        "id": "CoMc1QP_3LR1"
      }
    },
    {
      "cell_type": "markdown",
      "metadata": {
        "id": "Vo0eH5DZK312"
      },
      "source": [
        "# Ethics & Privacy"
      ]
    },
    {
      "cell_type": "markdown",
      "metadata": {
        "id": "Igo3gYrHK312"
      },
      "source": [
        "In this project, we analyze publicly available data which were obtained over the internet with collection of students grade performance, class standings, and workout information, because this is mostly public data, there are not a lot of ethics and privacy concerns in our case since most of the data collected are from publicly accessible database such as scholarly articles and surveys which are often credible. We made sure that most of the data collected are anonymous which protected privacy, the names of the students were not at our disposal and we do not take into account the individuals during our research. Our project will not mention their names or cause any attention to any individuals related to this project. Furthermore, there is no way for students to be identified from their GPA information. This guarantees both ethics and privacy. "
      ]
    },
    {
      "cell_type": "markdown",
      "metadata": {
        "id": "D_hUVif8K313"
      },
      "source": [
        "# Conclusion & Discussion"
      ]
    },
    {
      "cell_type": "markdown",
      "metadata": {
        "id": "apVkIE_NK313"
      },
      "source": [
        "### Process \n",
        "In this study we analyzed the relationship between GPA and physical fitness factors (measured through a FitBit device) such as:\n",
        "- Steps taken in a day\n",
        "- Mile time\n",
        "- Intensity of excercise (fat burn)\n",
        "- Cardio score (determined by resting heart rate, age, gender, and weight)\n",
        "\n",
        "We initially hypothesized that physical fitness (based on these four factors) has a positive correlation with GPA. This hypothesis was based on the reasoning that physical activity can improve cognitive health. \n",
        "\n",
        "In order to find an answer to our research question and test our hypothesis, we researched college studies that explore this topic. During our search, we found one case study that measured GPA and the four factors above on a sample of 581 freshman students. In our data cleaning process, we removed unnecessary features from our dataset such as lifescore, mode, and peak as they did not have any relevance to our research question. Once we had clean and tidy data, we were able to begin our descriptive analysis. \n",
        "\n",
        "We began by first determining whether our sample was representative of the overall undergraduate college population, which it was. We then took a look at the distributions of our features and made sure to normalize them accordingly. Moreover, we eliminated any outliers that may skew those distributions. \n",
        "\n",
        "\n",
        "Once we had an understanding of our data, we began our exploratory analysis. We looked at the scatter plots of each feature with GPA to see any linear correlation between them, which we believed there was. This allowed us to perform linear regression. We also wanted to explore if other confounding factors such as gender had an influence on our study. When we broke down the scatter plots by gender, we did not see gender having an influence on GPA.\n",
        "\n",
        "### Findings\n",
        "\n",
        "After performing linear regressions, we found that mile time, cardio score, or number of steps taken in a day, did not have a statistically significant linear relationship with GPA. This led us to reject our proposed hypothesis when physical fitness is determined by mile time, cardio score, or number of steps taken in a day. We did however, find that intensity of excercise (fat burn) was statistically significant with GPA but its correlation factor was extremely small. Therefore our hypothesis is wrong when physical fitness is determined by intensity of excercise (fat burn) since it has little to no correlation with GPA.\n",
        "\n",
        "\n",
        "\n",
        "\n",
        "\n",
        "\n",
        "### Limitations:\n",
        "Given that our dataframe has 581 observations, they all come from a single class (Freshman) which may not be representative of the overall college population. Dataframes that did encapsulate all four college years were not representative of the overall population as there was a heavy skew towards males. This is not indicative of the 60-40 ratio of women to men in colleges and so we had to remove the datasets from our study in order to obtain a more accurate answer to our research question. Because the nature of the study is so unique, it was difficult to find other datasets that can be joined with our current dataset due to the different metrics used to measure physical fitness and academic performance. Therefore we were limited to the use of one dataset that measure physical fitness through steps taken in a day, mile time, intensity of excercise (fat burn), cardio score and academic performance through GPA. We acknowledge that other metrics such as standardized test scores are another way of measure academic performance, but no such datasets were found due to privacy and ethical concerns. In order to accurately track each participants physical activity, extensive tracking must be done on each individual, which made it difficult to find such studies. "
      ]
    },
    {
      "cell_type": "markdown",
      "metadata": {
        "id": "72hJlGErK313"
      },
      "source": [
        "# Team Contributions"
      ]
    },
    {
      "cell_type": "markdown",
      "metadata": {
        "id": "8oXsXraqK313"
      },
      "source": [
        "*Specify who in your group worked on which parts of the project.*\n",
        "\n",
        "- Aditya Moghe:\n",
        "  - Researched datasets and resources that can be used in our study\n",
        "  - Contributed to research and writing the Background and revising hypothesis and research question\n",
        "  - Helped with data wrangling and tidying data for later use\n",
        "  - Plotted EDA visualizations (distribution graphs) and explained their meanings\n",
        "  - Contributed in writing the Conclusion and Overview\n",
        "  - Analyzed statistical significance of p-values and coefficients\n",
        "  - Helped with video production \n",
        "\n",
        "- Raghav Cherukuru:\n",
        "  - Researched on finding data and creating the project timeline along with Presley \n",
        "  - Contributed in data cleaning, code for data visualization \n",
        "  - Helped with explanation of data visualization\n",
        "  - Helped with validating datasets\n",
        "  - Contributed to writing conclusion, and overview\n",
        "  - Helped with video production\n",
        "\n",
        "- Presley Cheng: \n",
        "\n",
        "  - Explored datasets and resources to incorporate into the project\n",
        "  - Discussed and contributed in deciding valid datasets that are used in the final completed project\n",
        "  - Helped with data wrangling and data formatting for better data analysis\n",
        "  - Helped with data analysis, EDA, statistical analysis, and outcome reasoning\n",
        "  - Helped with data visualization and graph interpretations\n",
        "  - Contributed in literature review, forming research question, and hypothesis\n",
        "  - Helped with video production \n",
        "\n",
        "- Salwan Shathar:\n",
        "  - Contributed to researching and writing background section\n",
        "  - Contributed in forming and revising research question and hypothesis\n",
        "  - Discussed and contributed in deciding valid datasets that are used in the final completed project\n",
        "  - Helped with data visualization and graph interpretations\n",
        "  - Helped with data analysis, EDA, statistical analysis, and outcome reasoning\n",
        "  - Carried out linear regression analysis\n",
        "  - Contributed to writing conclusion and overview\n",
        "  - Helped with video production\n",
        "\n",
        "- Eric Peng: \n",
        "  - Contributed to ethics and privacy section\n",
        "  - Helped with video production and recording\n"
      ]
    }
  ],
  "metadata": {
    "kernelspec": {
      "display_name": "Python 3",
      "language": "python",
      "name": "python3"
    },
    "language_info": {
      "codemirror_mode": {
        "name": "ipython",
        "version": 3
      },
      "file_extension": ".py",
      "mimetype": "text/x-python",
      "name": "python",
      "nbconvert_exporter": "python",
      "pygments_lexer": "ipython3",
      "version": "3.7.9"
    },
    "colab": {
      "name": "FinalProjectGroup070Sp22.ipynb",
      "provenance": [],
      "collapsed_sections": []
    }
  },
  "nbformat": 4,
  "nbformat_minor": 0
}