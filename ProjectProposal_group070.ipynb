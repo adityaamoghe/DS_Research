{
 "cells": [
  {
   "cell_type": "markdown",
   "metadata": {},
   "source": [
    "# COGS 108 - Final Project Proposal"
   ]
  },
  {
   "cell_type": "markdown",
   "metadata": {},
   "source": [
    "# Names\n",
    "\n",
    "- Aditya Moghe\n",
    "- Salwan Shathar\n",
    "- Raghav Cherukuru\n",
    "- Presley Cheng\n",
    "- Eric Peng"
   ]
  },
  {
   "cell_type": "markdown",
   "metadata": {},
   "source": [
    "# Research Question"
   ]
  },
  {
   "cell_type": "markdown",
   "metadata": {},
   "source": [
    "What is the relationship between excerise and academic performance (i.e. Grade point average and standardized test scores) amongst undergraduate students in the United States? "
   ]
  },
  {
   "cell_type": "markdown",
   "metadata": {},
   "source": [
    "## Background and Prior Work"
   ]
  },
  {
   "cell_type": "markdown",
   "metadata": {},
   "source": [
    "Academic performance is a critical factor towards a person's overall academic success. Maximizing ones academic success could better one's carreer and state of life with the opportunities schooling provides. Our group is highly interested in exercising and physical fitness; as college students looking to excel in our academic studies, we want to examine the effects of exercising on academic performance.\n",
    "\n",
    "There have been extensive studies on the correlation between physical activity and academic performance amongst adolescents. One such study [^Castelli] found that physical activity is linked to higher academic performance as measured through standardized test scores, improved memory retention, and better engagement. The children studied had an enhanced learning experience when participating in physical activities. While this study was able to effectively correlate academics with exercise rates, the results were not applicable to college students. Our group aims to extend the findings to college student population.\n",
    "\n",
    "A 2017 study from the Stanford Center for Education Policy Analysis[^Fricke] concluded that college students who were able to effectively integrate both excercise and studying into their daily regimen, showed far greater academic results than students who did not. However one confounding variable in the conducting of the study was that the researchers used incentives to encourage students to participate in the on campus activities. The findings were not able to distinguish whether it was excercise or spending more time at the educational facility that yielded in higher academic performance. Our group aims to refine this study and truly pinpoint whether there is a direct correlation to exercise rates and higher academic performance among college students.\n",
    "\n",
    "\n",
    "\n",
    "[^Castelli]: Castelli, M., Darla, (2015). Active Education: Growing Evidence on Physical Activity and Academic Performance. https://activelivingresearch.org/sites/activelivingresearch.org/files/ALR_Brief_ActiveEducation_Jan2015.pdf\n",
    "\n",
    "[^Fricke]: Fricke, H., Lechner, M., & Steinmayr, A. (2017). The Effect of Physical Activity on Student Performance in College: An Experimental Evaluation. https://cepa.stanford.edu/content/effect-physical-activity-student-performance-college-experimental-evaluation\n",
    "\n"
   ]
  },
  {
   "cell_type": "markdown",
   "metadata": {},
   "source": [
    "# Hypothesis\n"
   ]
  },
  {
   "cell_type": "markdown",
   "metadata": {},
   "source": [
    "We predict that college going students who excercise regularly will perform at higher rates in academics than college students who do not excercise regularly."
   ]
  },
  {
   "cell_type": "markdown",
   "metadata": {},
   "source": [
    "# Data"
   ]
  },
  {
   "cell_type": "markdown",
   "metadata": {},
   "source": [
    "\n",
    "An ideal data set would have variables such as the amount of time spent exercising, type of exercise, grade point average of that person, and class standing. We would want a fairly high number of observations. This is because we want to avoid collecting less data that does not represent the entire target population correctly and recognize outliers in the dataset. We would like to collect our data from scholarly articles and surveys that are credible. We would like organize our data structurally and cleanly such that we remove any extraneous datapoints. In order to group and categorize data we will use one dataframe that consists of all our data and we do multiple analysis by splitting up the data into different categories such as gender, class standing, race, etc. \n",
    "\n",
    "[Data](data/cogs_csv_data.csv) - This dataset consists of academic performance\n",
    "\n",
    "[Data2](data/cogs_csv_data2.csv) - This dataset consists of class standing\n",
    " \n",
    "[Data3](https://figshare.com/articles/dataset/Dataset_Fitbits_field-tests_and_grades_The_effects_of_a_healthy_and_physically_active_lifestyle_on_the_academic_performance_of_first_year_college_students_/7218497) - This dataset consists of only freshmen \n",
    "\n",
    "\n"
   ]
  },
  {
   "cell_type": "markdown",
   "metadata": {},
   "source": [
    "# Ethics & Privacy"
   ]
  },
  {
   "cell_type": "markdown",
   "metadata": {},
   "source": [
    "In this project, we analyze publicly available data which were obtained over the internet with collection of students grade performance, class standings, and workout information, because this is mostly public data, there are not a lot of ethics and privacy concerns in our case since most of the data collected are from publicly accessible database such as scholarly articles and surveys which are often credible. We made sure that most of the data collected are anonymous which protected privacy, the names of the students were not at our disposal and we do not take into account the individuals during our research. Our project will not mention their names or cause any attention to any individuals related to this project. This guarantees both ethics and privacy. \n"
   ]
  },
  {
   "cell_type": "markdown",
   "metadata": {},
   "source": [
    "# Team Expectations "
   ]
  },
  {
   "cell_type": "markdown",
   "metadata": {},
   "source": [
    "* Expectation 1: We expect all group members to contribute and participate during our meetings.\n",
    "* Expectation 2: We expect all group members to put in equal efforts and similar contributions.\n",
    "* Expectation 3: We expect all group members to understand every step of our project.\n",
    "* Expectation 4: We expect all group members to communicate professionally, effectively, and regularly.\n",
    "* Expectation 5: We expect all group members to abide with proper, professional etiquete.\n"
   ]
  },
  {
   "cell_type": "markdown",
   "metadata": {},
   "source": [
    "# Project Timeline Proposal"
   ]
  },
  {
   "cell_type": "markdown",
   "metadata": {},
   "source": [
    "| Meeting Date  | Meeting Time| Completed Before Meeting  | Discuss at Meeting |\n",
    "|---|---|---|---|\n",
    "| 4/21  |  1 PM | brainstorm proposal ideas and research questions | Discuss and decide on final project topic; discuss research questions; begin background research; discuss on team expectations|\n",
    "| 4/27  |  7 PM |  Do data research on topic; Do background research on topic | Discuss ideal dataset(s); discuss and solidify decision on hypothesis|\n",
    "| 5/4  | 7 PM  | Practice on data wrangling and analytical techniques | Discuss Wrangling and possible analytical approaches; Edit & Finalize project for checkpoint 1 |\n",
    "| 5/11  | 7 PM  | Import & Wrangle Data | Review/Edit wrangling; Discuss and start Analysis Plan; brainstorm data visualization approaches |\n",
    "| 5/18  | 7 PM  | Finalize wrangling; Begin Analysis and data visualization| Discuss/edit Analysis and data visualization; Edit & Finalize project for checkpoint 2 |\n",
    "| 5/25  | 7 PM | Complete analysis; Draft results/conclusion/discussion| Discuss/edit full project |\n",
    "| 6/1  | 7PM | Edit & Finalize data visualization, analysis, and wrangling | Turn in Final Project & Group Project Surveys |"
   ]
  },
  {
   "cell_type": "markdown",
   "metadata": {},
   "source": []
  }
 ],
 "metadata": {
  "kernelspec": {
   "display_name": "Python 3",
   "language": "python",
   "name": "python3"
  },
  "language_info": {
   "codemirror_mode": {
    "name": "ipython",
    "version": 3
   },
   "file_extension": ".py",
   "mimetype": "text/x-python",
   "name": "python",
   "nbconvert_exporter": "python",
   "pygments_lexer": "ipython3",
   "version": "3.7.9"
  }
 },
 "nbformat": 4,
 "nbformat_minor": 2
}
